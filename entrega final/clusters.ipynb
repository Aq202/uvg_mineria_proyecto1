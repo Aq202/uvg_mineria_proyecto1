{
 "cells": [
  {
   "cell_type": "code",
   "execution_count": 131,
   "metadata": {},
   "outputs": [],
   "source": [
    "import pandas as pd\n",
    "import numpy as np"
   ]
  },
  {
   "cell_type": "code",
   "execution_count": 132,
   "metadata": {},
   "outputs": [],
   "source": [
    "ods_data = pd.read_csv(\"ODS_indicators.csv\")"
   ]
  },
  {
   "cell_type": "code",
   "execution_count": 133,
   "metadata": {},
   "outputs": [],
   "source": [
    "ods_data.drop([\"Country Name\", \"Indicator Code\"], axis=1, inplace=True)\n",
    "#ods_data.drop([str(year) for year in range(1990, 2005)], axis=1, inplace=True)"
   ]
  },
  {
   "cell_type": "code",
   "execution_count": 134,
   "metadata": {},
   "outputs": [
    {
     "data": {
      "text/html": [
       "<div>\n",
       "<style scoped>\n",
       "    .dataframe tbody tr th:only-of-type {\n",
       "        vertical-align: middle;\n",
       "    }\n",
       "\n",
       "    .dataframe tbody tr th {\n",
       "        vertical-align: top;\n",
       "    }\n",
       "\n",
       "    .dataframe thead th {\n",
       "        text-align: right;\n",
       "    }\n",
       "</style>\n",
       "<table border=\"1\" class=\"dataframe\">\n",
       "  <thead>\n",
       "    <tr style=\"text-align: right;\">\n",
       "      <th>Indicator Name</th>\n",
       "      <th>Country Code</th>\n",
       "      <th>Year</th>\n",
       "      <th>Access to clean fuels and technologies for cooking (% of population)</th>\n",
       "      <th>Access to electricity (% of population)</th>\n",
       "      <th>Adolescent fertility rate (births per 1000 women ages 15-19)</th>\n",
       "      <th>Adolescents out of school (% of lower secondary school age)</th>\n",
       "      <th>Employment in agriculture (% of total employment) (modeled ILO estimate)</th>\n",
       "      <th>Employment in industry (% of total employment) (modeled ILO estimate)</th>\n",
       "      <th>Employment in services (% of total employment) (modeled ILO estimate)</th>\n",
       "      <th>GDP per capita (current US$)</th>\n",
       "      <th>Households and NPISHs Final consumption expenditure (annual % growth)</th>\n",
       "      <th>Individuals using the Internet (% of population)</th>\n",
       "      <th>People using at least basic drinking water services (% of population)</th>\n",
       "      <th>People using at least basic sanitation services (% of population)</th>\n",
       "      <th>People using safely managed drinking water services (% of population)</th>\n",
       "      <th>Primary completion rate total (% of relevant age group)</th>\n",
       "      <th>Unemployment total (% of total labor force) (modeled ILO estimate)</th>\n",
       "      <th>Urban population (% of total population)</th>\n",
       "    </tr>\n",
       "  </thead>\n",
       "  <tbody>\n",
       "    <tr>\n",
       "      <th>0</th>\n",
       "      <td>ABW</td>\n",
       "      <td>1990</td>\n",
       "      <td>NaN</td>\n",
       "      <td>100.000000</td>\n",
       "      <td>50.2700</td>\n",
       "      <td>NaN</td>\n",
       "      <td>NaN</td>\n",
       "      <td>NaN</td>\n",
       "      <td>NaN</td>\n",
       "      <td>12305.387910</td>\n",
       "      <td>NaN</td>\n",
       "      <td>0.000000</td>\n",
       "      <td>NaN</td>\n",
       "      <td>NaN</td>\n",
       "      <td>NaN</td>\n",
       "      <td>NaN</td>\n",
       "      <td>NaN</td>\n",
       "      <td>50.319</td>\n",
       "    </tr>\n",
       "    <tr>\n",
       "      <th>1</th>\n",
       "      <td>ABW</td>\n",
       "      <td>1991</td>\n",
       "      <td>NaN</td>\n",
       "      <td>99.153656</td>\n",
       "      <td>49.7000</td>\n",
       "      <td>NaN</td>\n",
       "      <td>NaN</td>\n",
       "      <td>NaN</td>\n",
       "      <td>NaN</td>\n",
       "      <td>13494.685160</td>\n",
       "      <td>NaN</td>\n",
       "      <td>0.000000</td>\n",
       "      <td>NaN</td>\n",
       "      <td>NaN</td>\n",
       "      <td>NaN</td>\n",
       "      <td>NaN</td>\n",
       "      <td>NaN</td>\n",
       "      <td>50.304</td>\n",
       "    </tr>\n",
       "    <tr>\n",
       "      <th>2</th>\n",
       "      <td>ABW</td>\n",
       "      <td>1992</td>\n",
       "      <td>NaN</td>\n",
       "      <td>99.197128</td>\n",
       "      <td>49.1300</td>\n",
       "      <td>NaN</td>\n",
       "      <td>NaN</td>\n",
       "      <td>NaN</td>\n",
       "      <td>NaN</td>\n",
       "      <td>14048.347270</td>\n",
       "      <td>NaN</td>\n",
       "      <td>0.000000</td>\n",
       "      <td>NaN</td>\n",
       "      <td>NaN</td>\n",
       "      <td>NaN</td>\n",
       "      <td>NaN</td>\n",
       "      <td>NaN</td>\n",
       "      <td>49.998</td>\n",
       "    </tr>\n",
       "    <tr>\n",
       "      <th>3</th>\n",
       "      <td>ABW</td>\n",
       "      <td>1993</td>\n",
       "      <td>NaN</td>\n",
       "      <td>99.239914</td>\n",
       "      <td>48.7648</td>\n",
       "      <td>NaN</td>\n",
       "      <td>NaN</td>\n",
       "      <td>NaN</td>\n",
       "      <td>NaN</td>\n",
       "      <td>14942.274960</td>\n",
       "      <td>NaN</td>\n",
       "      <td>0.000000</td>\n",
       "      <td>NaN</td>\n",
       "      <td>NaN</td>\n",
       "      <td>NaN</td>\n",
       "      <td>NaN</td>\n",
       "      <td>NaN</td>\n",
       "      <td>49.588</td>\n",
       "    </tr>\n",
       "    <tr>\n",
       "      <th>4</th>\n",
       "      <td>ABW</td>\n",
       "      <td>1994</td>\n",
       "      <td>NaN</td>\n",
       "      <td>100.000000</td>\n",
       "      <td>48.3996</td>\n",
       "      <td>NaN</td>\n",
       "      <td>NaN</td>\n",
       "      <td>NaN</td>\n",
       "      <td>NaN</td>\n",
       "      <td>16241.575590</td>\n",
       "      <td>NaN</td>\n",
       "      <td>0.000000</td>\n",
       "      <td>NaN</td>\n",
       "      <td>NaN</td>\n",
       "      <td>NaN</td>\n",
       "      <td>NaN</td>\n",
       "      <td>NaN</td>\n",
       "      <td>49.177</td>\n",
       "    </tr>\n",
       "    <tr>\n",
       "      <th>...</th>\n",
       "      <td>...</td>\n",
       "      <td>...</td>\n",
       "      <td>...</td>\n",
       "      <td>...</td>\n",
       "      <td>...</td>\n",
       "      <td>...</td>\n",
       "      <td>...</td>\n",
       "      <td>...</td>\n",
       "      <td>...</td>\n",
       "      <td>...</td>\n",
       "      <td>...</td>\n",
       "      <td>...</td>\n",
       "      <td>...</td>\n",
       "      <td>...</td>\n",
       "      <td>...</td>\n",
       "      <td>...</td>\n",
       "      <td>...</td>\n",
       "      <td>...</td>\n",
       "    </tr>\n",
       "    <tr>\n",
       "      <th>8078</th>\n",
       "      <td>ZWE</td>\n",
       "      <td>2016</td>\n",
       "      <td>29.8</td>\n",
       "      <td>42.561729</td>\n",
       "      <td>90.6766</td>\n",
       "      <td>2.261470</td>\n",
       "      <td>66.879997</td>\n",
       "      <td>7.05</td>\n",
       "      <td>26.070000</td>\n",
       "      <td>1464.588957</td>\n",
       "      <td>-10.501114</td>\n",
       "      <td>23.119989</td>\n",
       "      <td>64.468964</td>\n",
       "      <td>37.529193</td>\n",
       "      <td>30.183683</td>\n",
       "      <td>99.265839</td>\n",
       "      <td>4.788</td>\n",
       "      <td>32.296</td>\n",
       "    </tr>\n",
       "    <tr>\n",
       "      <th>8079</th>\n",
       "      <td>ZWE</td>\n",
       "      <td>2017</td>\n",
       "      <td>29.8</td>\n",
       "      <td>44.178635</td>\n",
       "      <td>86.1350</td>\n",
       "      <td>2.356790</td>\n",
       "      <td>66.480003</td>\n",
       "      <td>6.90</td>\n",
       "      <td>26.629999</td>\n",
       "      <td>1235.189032</td>\n",
       "      <td>1.396143</td>\n",
       "      <td>24.400000</td>\n",
       "      <td>63.996625</td>\n",
       "      <td>36.941673</td>\n",
       "      <td>29.997683</td>\n",
       "      <td>95.476372</td>\n",
       "      <td>4.785</td>\n",
       "      <td>32.237</td>\n",
       "    </tr>\n",
       "    <tr>\n",
       "      <th>8080</th>\n",
       "      <td>ZWE</td>\n",
       "      <td>2018</td>\n",
       "      <td>29.9</td>\n",
       "      <td>45.572647</td>\n",
       "      <td>83.2486</td>\n",
       "      <td>6.226070</td>\n",
       "      <td>66.019997</td>\n",
       "      <td>6.75</td>\n",
       "      <td>27.230000</td>\n",
       "      <td>1254.642265</td>\n",
       "      <td>-22.393220</td>\n",
       "      <td>25.000000</td>\n",
       "      <td>63.538773</td>\n",
       "      <td>36.357160</td>\n",
       "      <td>29.827913</td>\n",
       "      <td>92.195152</td>\n",
       "      <td>4.796</td>\n",
       "      <td>32.209</td>\n",
       "    </tr>\n",
       "    <tr>\n",
       "      <th>8081</th>\n",
       "      <td>ZWE</td>\n",
       "      <td>2019</td>\n",
       "      <td>30.1</td>\n",
       "      <td>46.781475</td>\n",
       "      <td>80.3622</td>\n",
       "      <td>7.544310</td>\n",
       "      <td>66.190002</td>\n",
       "      <td>6.57</td>\n",
       "      <td>27.240000</td>\n",
       "      <td>1316.740657</td>\n",
       "      <td>NaN</td>\n",
       "      <td>25.100000</td>\n",
       "      <td>63.094957</td>\n",
       "      <td>35.774337</td>\n",
       "      <td>29.673569</td>\n",
       "      <td>88.508812</td>\n",
       "      <td>4.833</td>\n",
       "      <td>32.210</td>\n",
       "    </tr>\n",
       "    <tr>\n",
       "      <th>8082</th>\n",
       "      <td>ZWE</td>\n",
       "      <td>2020</td>\n",
       "      <td>30.4</td>\n",
       "      <td>52.747669</td>\n",
       "      <td>77.4758</td>\n",
       "      <td>21.875412</td>\n",
       "      <td>NaN</td>\n",
       "      <td>NaN</td>\n",
       "      <td>NaN</td>\n",
       "      <td>1214.509820</td>\n",
       "      <td>NaN</td>\n",
       "      <td>29.300000</td>\n",
       "      <td>62.666458</td>\n",
       "      <td>35.192363</td>\n",
       "      <td>29.535890</td>\n",
       "      <td>90.017349</td>\n",
       "      <td>5.351</td>\n",
       "      <td>32.242</td>\n",
       "    </tr>\n",
       "  </tbody>\n",
       "</table>\n",
       "<p>8083 rows × 18 columns</p>\n",
       "</div>"
      ],
      "text/plain": [
       "Indicator Name Country Code  Year  \\\n",
       "0                       ABW  1990   \n",
       "1                       ABW  1991   \n",
       "2                       ABW  1992   \n",
       "3                       ABW  1993   \n",
       "4                       ABW  1994   \n",
       "...                     ...   ...   \n",
       "8078                    ZWE  2016   \n",
       "8079                    ZWE  2017   \n",
       "8080                    ZWE  2018   \n",
       "8081                    ZWE  2019   \n",
       "8082                    ZWE  2020   \n",
       "\n",
       "Indicator Name  Access to clean fuels and technologies for cooking (% of population)  \\\n",
       "0                                                             NaN                      \n",
       "1                                                             NaN                      \n",
       "2                                                             NaN                      \n",
       "3                                                             NaN                      \n",
       "4                                                             NaN                      \n",
       "...                                                           ...                      \n",
       "8078                                                         29.8                      \n",
       "8079                                                         29.8                      \n",
       "8080                                                         29.9                      \n",
       "8081                                                         30.1                      \n",
       "8082                                                         30.4                      \n",
       "\n",
       "Indicator Name  Access to electricity (% of population)  \\\n",
       "0                                            100.000000   \n",
       "1                                             99.153656   \n",
       "2                                             99.197128   \n",
       "3                                             99.239914   \n",
       "4                                            100.000000   \n",
       "...                                                 ...   \n",
       "8078                                          42.561729   \n",
       "8079                                          44.178635   \n",
       "8080                                          45.572647   \n",
       "8081                                          46.781475   \n",
       "8082                                          52.747669   \n",
       "\n",
       "Indicator Name  Adolescent fertility rate (births per 1000 women ages 15-19)  \\\n",
       "0                                                         50.2700              \n",
       "1                                                         49.7000              \n",
       "2                                                         49.1300              \n",
       "3                                                         48.7648              \n",
       "4                                                         48.3996              \n",
       "...                                                           ...              \n",
       "8078                                                      90.6766              \n",
       "8079                                                      86.1350              \n",
       "8080                                                      83.2486              \n",
       "8081                                                      80.3622              \n",
       "8082                                                      77.4758              \n",
       "\n",
       "Indicator Name  Adolescents out of school (% of lower secondary school age)  \\\n",
       "0                                                             NaN             \n",
       "1                                                             NaN             \n",
       "2                                                             NaN             \n",
       "3                                                             NaN             \n",
       "4                                                             NaN             \n",
       "...                                                           ...             \n",
       "8078                                                     2.261470             \n",
       "8079                                                     2.356790             \n",
       "8080                                                     6.226070             \n",
       "8081                                                     7.544310             \n",
       "8082                                                    21.875412             \n",
       "\n",
       "Indicator Name  Employment in agriculture (% of total employment) (modeled ILO estimate)  \\\n",
       "0                                                             NaN                          \n",
       "1                                                             NaN                          \n",
       "2                                                             NaN                          \n",
       "3                                                             NaN                          \n",
       "4                                                             NaN                          \n",
       "...                                                           ...                          \n",
       "8078                                                    66.879997                          \n",
       "8079                                                    66.480003                          \n",
       "8080                                                    66.019997                          \n",
       "8081                                                    66.190002                          \n",
       "8082                                                          NaN                          \n",
       "\n",
       "Indicator Name  Employment in industry (% of total employment) (modeled ILO estimate)  \\\n",
       "0                                                             NaN                       \n",
       "1                                                             NaN                       \n",
       "2                                                             NaN                       \n",
       "3                                                             NaN                       \n",
       "4                                                             NaN                       \n",
       "...                                                           ...                       \n",
       "8078                                                         7.05                       \n",
       "8079                                                         6.90                       \n",
       "8080                                                         6.75                       \n",
       "8081                                                         6.57                       \n",
       "8082                                                          NaN                       \n",
       "\n",
       "Indicator Name  Employment in services (% of total employment) (modeled ILO estimate)  \\\n",
       "0                                                             NaN                       \n",
       "1                                                             NaN                       \n",
       "2                                                             NaN                       \n",
       "3                                                             NaN                       \n",
       "4                                                             NaN                       \n",
       "...                                                           ...                       \n",
       "8078                                                    26.070000                       \n",
       "8079                                                    26.629999                       \n",
       "8080                                                    27.230000                       \n",
       "8081                                                    27.240000                       \n",
       "8082                                                          NaN                       \n",
       "\n",
       "Indicator Name  GDP per capita (current US$)  \\\n",
       "0                               12305.387910   \n",
       "1                               13494.685160   \n",
       "2                               14048.347270   \n",
       "3                               14942.274960   \n",
       "4                               16241.575590   \n",
       "...                                      ...   \n",
       "8078                             1464.588957   \n",
       "8079                             1235.189032   \n",
       "8080                             1254.642265   \n",
       "8081                             1316.740657   \n",
       "8082                             1214.509820   \n",
       "\n",
       "Indicator Name  Households and NPISHs Final consumption expenditure (annual % growth)  \\\n",
       "0                                                             NaN                       \n",
       "1                                                             NaN                       \n",
       "2                                                             NaN                       \n",
       "3                                                             NaN                       \n",
       "4                                                             NaN                       \n",
       "...                                                           ...                       \n",
       "8078                                                   -10.501114                       \n",
       "8079                                                     1.396143                       \n",
       "8080                                                   -22.393220                       \n",
       "8081                                                          NaN                       \n",
       "8082                                                          NaN                       \n",
       "\n",
       "Indicator Name  Individuals using the Internet (% of population)  \\\n",
       "0                                                       0.000000   \n",
       "1                                                       0.000000   \n",
       "2                                                       0.000000   \n",
       "3                                                       0.000000   \n",
       "4                                                       0.000000   \n",
       "...                                                          ...   \n",
       "8078                                                   23.119989   \n",
       "8079                                                   24.400000   \n",
       "8080                                                   25.000000   \n",
       "8081                                                   25.100000   \n",
       "8082                                                   29.300000   \n",
       "\n",
       "Indicator Name  People using at least basic drinking water services (% of population)  \\\n",
       "0                                                             NaN                       \n",
       "1                                                             NaN                       \n",
       "2                                                             NaN                       \n",
       "3                                                             NaN                       \n",
       "4                                                             NaN                       \n",
       "...                                                           ...                       \n",
       "8078                                                    64.468964                       \n",
       "8079                                                    63.996625                       \n",
       "8080                                                    63.538773                       \n",
       "8081                                                    63.094957                       \n",
       "8082                                                    62.666458                       \n",
       "\n",
       "Indicator Name  People using at least basic sanitation services (% of population)  \\\n",
       "0                                                             NaN                   \n",
       "1                                                             NaN                   \n",
       "2                                                             NaN                   \n",
       "3                                                             NaN                   \n",
       "4                                                             NaN                   \n",
       "...                                                           ...                   \n",
       "8078                                                    37.529193                   \n",
       "8079                                                    36.941673                   \n",
       "8080                                                    36.357160                   \n",
       "8081                                                    35.774337                   \n",
       "8082                                                    35.192363                   \n",
       "\n",
       "Indicator Name  People using safely managed drinking water services (% of population)  \\\n",
       "0                                                             NaN                       \n",
       "1                                                             NaN                       \n",
       "2                                                             NaN                       \n",
       "3                                                             NaN                       \n",
       "4                                                             NaN                       \n",
       "...                                                           ...                       \n",
       "8078                                                    30.183683                       \n",
       "8079                                                    29.997683                       \n",
       "8080                                                    29.827913                       \n",
       "8081                                                    29.673569                       \n",
       "8082                                                    29.535890                       \n",
       "\n",
       "Indicator Name  Primary completion rate total (% of relevant age group)  \\\n",
       "0                                                             NaN         \n",
       "1                                                             NaN         \n",
       "2                                                             NaN         \n",
       "3                                                             NaN         \n",
       "4                                                             NaN         \n",
       "...                                                           ...         \n",
       "8078                                                    99.265839         \n",
       "8079                                                    95.476372         \n",
       "8080                                                    92.195152         \n",
       "8081                                                    88.508812         \n",
       "8082                                                    90.017349         \n",
       "\n",
       "Indicator Name  Unemployment total (% of total labor force) (modeled ILO estimate)  \\\n",
       "0                                                             NaN                    \n",
       "1                                                             NaN                    \n",
       "2                                                             NaN                    \n",
       "3                                                             NaN                    \n",
       "4                                                             NaN                    \n",
       "...                                                           ...                    \n",
       "8078                                                        4.788                    \n",
       "8079                                                        4.785                    \n",
       "8080                                                        4.796                    \n",
       "8081                                                        4.833                    \n",
       "8082                                                        5.351                    \n",
       "\n",
       "Indicator Name  Urban population (% of total population)  \n",
       "0                                                 50.319  \n",
       "1                                                 50.304  \n",
       "2                                                 49.998  \n",
       "3                                                 49.588  \n",
       "4                                                 49.177  \n",
       "...                                                  ...  \n",
       "8078                                              32.296  \n",
       "8079                                              32.237  \n",
       "8080                                              32.209  \n",
       "8081                                              32.210  \n",
       "8082                                              32.242  \n",
       "\n",
       "[8083 rows x 18 columns]"
      ]
     },
     "execution_count": 134,
     "metadata": {},
     "output_type": "execute_result"
    }
   ],
   "source": [
    "\n",
    "melted_df = ods_data.melt(id_vars=['Country Code', 'Indicator Name'], var_name='Year', value_name='Value')\n",
    "\n",
    "\n",
    "ods_data = melted_df.pivot_table(index=['Country Code', 'Year'], columns='Indicator Name', values='Value')\n",
    "\n",
    "\n",
    "ods_data.reset_index(inplace=True)\n",
    "\n",
    "ods_data"
   ]
  },
  {
   "cell_type": "code",
   "execution_count": 135,
   "metadata": {},
   "outputs": [],
   "source": [
    "indicators_data = pd.read_csv(\"HDR23-24_Composite_indices_complete_time_series.csv\",  encoding='latin1')"
   ]
  },
  {
   "cell_type": "code",
   "execution_count": 136,
   "metadata": {},
   "outputs": [],
   "source": [
    "# Eliminar columnas\n",
    "indicators_data = indicators_data.drop([\"hdicode\",\"region\"], axis=1)\n",
    "indicators_data = indicators_data.rename(columns={\"iso3\":\"Country Code\"})"
   ]
  },
  {
   "cell_type": "code",
   "execution_count": 137,
   "metadata": {},
   "outputs": [
    {
     "data": {
      "text/html": [
       "<div>\n",
       "<style scoped>\n",
       "    .dataframe tbody tr th:only-of-type {\n",
       "        vertical-align: middle;\n",
       "    }\n",
       "\n",
       "    .dataframe tbody tr th {\n",
       "        vertical-align: top;\n",
       "    }\n",
       "\n",
       "    .dataframe thead th {\n",
       "        text-align: right;\n",
       "    }\n",
       "</style>\n",
       "<table border=\"1\" class=\"dataframe\">\n",
       "  <thead>\n",
       "    <tr style=\"text-align: right;\">\n",
       "      <th>variable</th>\n",
       "      <th>Country Code</th>\n",
       "      <th>country</th>\n",
       "      <th>Year</th>\n",
       "      <th>hdi</th>\n",
       "      <th>eys</th>\n",
       "      <th>le</th>\n",
       "      <th>mys</th>\n",
       "      <th>pop_total</th>\n",
       "    </tr>\n",
       "  </thead>\n",
       "  <tbody>\n",
       "    <tr>\n",
       "      <th>0</th>\n",
       "      <td>AFG</td>\n",
       "      <td>Afghanistan</td>\n",
       "      <td>1990</td>\n",
       "      <td>0.284</td>\n",
       "      <td>2.936460</td>\n",
       "      <td>45.967000</td>\n",
       "      <td>0.871962</td>\n",
       "      <td>10.694796</td>\n",
       "    </tr>\n",
       "    <tr>\n",
       "      <th>1</th>\n",
       "      <td>AFG</td>\n",
       "      <td>Afghanistan</td>\n",
       "      <td>1991</td>\n",
       "      <td>0.292</td>\n",
       "      <td>3.228456</td>\n",
       "      <td>46.663000</td>\n",
       "      <td>0.915267</td>\n",
       "      <td>10.745167</td>\n",
       "    </tr>\n",
       "    <tr>\n",
       "      <th>2</th>\n",
       "      <td>AFG</td>\n",
       "      <td>Afghanistan</td>\n",
       "      <td>1992</td>\n",
       "      <td>0.299</td>\n",
       "      <td>3.520452</td>\n",
       "      <td>47.596000</td>\n",
       "      <td>0.958573</td>\n",
       "      <td>12.057433</td>\n",
       "    </tr>\n",
       "    <tr>\n",
       "      <th>3</th>\n",
       "      <td>AFG</td>\n",
       "      <td>Afghanistan</td>\n",
       "      <td>1993</td>\n",
       "      <td>0.307</td>\n",
       "      <td>3.812448</td>\n",
       "      <td>51.466000</td>\n",
       "      <td>1.001878</td>\n",
       "      <td>14.003760</td>\n",
       "    </tr>\n",
       "    <tr>\n",
       "      <th>4</th>\n",
       "      <td>AFG</td>\n",
       "      <td>Afghanistan</td>\n",
       "      <td>1994</td>\n",
       "      <td>0.300</td>\n",
       "      <td>4.104445</td>\n",
       "      <td>51.495000</td>\n",
       "      <td>1.045184</td>\n",
       "      <td>15.455554</td>\n",
       "    </tr>\n",
       "    <tr>\n",
       "      <th>...</th>\n",
       "      <td>...</td>\n",
       "      <td>...</td>\n",
       "      <td>...</td>\n",
       "      <td>...</td>\n",
       "      <td>...</td>\n",
       "      <td>...</td>\n",
       "      <td>...</td>\n",
       "      <td>...</td>\n",
       "    </tr>\n",
       "    <tr>\n",
       "      <th>6793</th>\n",
       "      <td>ZZK.WORLD</td>\n",
       "      <td>World</td>\n",
       "      <td>2018</td>\n",
       "      <td>0.735</td>\n",
       "      <td>12.651182</td>\n",
       "      <td>72.816178</td>\n",
       "      <td>8.483187</td>\n",
       "      <td>7649.567694</td>\n",
       "    </tr>\n",
       "    <tr>\n",
       "      <th>6794</th>\n",
       "      <td>ZZK.WORLD</td>\n",
       "      <td>World</td>\n",
       "      <td>2019</td>\n",
       "      <td>0.739</td>\n",
       "      <td>12.726141</td>\n",
       "      <td>73.012121</td>\n",
       "      <td>8.574383</td>\n",
       "      <td>7730.660623</td>\n",
       "    </tr>\n",
       "    <tr>\n",
       "      <th>6795</th>\n",
       "      <td>ZZK.WORLD</td>\n",
       "      <td>World</td>\n",
       "      <td>2020</td>\n",
       "      <td>0.736</td>\n",
       "      <td>12.860674</td>\n",
       "      <td>72.257355</td>\n",
       "      <td>8.686374</td>\n",
       "      <td>7806.602793</td>\n",
       "    </tr>\n",
       "    <tr>\n",
       "      <th>6796</th>\n",
       "      <td>ZZK.WORLD</td>\n",
       "      <td>World</td>\n",
       "      <td>2021</td>\n",
       "      <td>0.735</td>\n",
       "      <td>12.911840</td>\n",
       "      <td>71.365524</td>\n",
       "      <td>8.682265</td>\n",
       "      <td>7874.877719</td>\n",
       "    </tr>\n",
       "    <tr>\n",
       "      <th>6797</th>\n",
       "      <td>ZZK.WORLD</td>\n",
       "      <td>World</td>\n",
       "      <td>2022</td>\n",
       "      <td>0.739</td>\n",
       "      <td>12.989766</td>\n",
       "      <td>72.004070</td>\n",
       "      <td>8.661598</td>\n",
       "      <td>7940.608797</td>\n",
       "    </tr>\n",
       "  </tbody>\n",
       "</table>\n",
       "<p>6798 rows × 8 columns</p>\n",
       "</div>"
      ],
      "text/plain": [
       "variable Country Code      country  Year    hdi        eys         le  \\\n",
       "0                 AFG  Afghanistan  1990  0.284   2.936460  45.967000   \n",
       "1                 AFG  Afghanistan  1991  0.292   3.228456  46.663000   \n",
       "2                 AFG  Afghanistan  1992  0.299   3.520452  47.596000   \n",
       "3                 AFG  Afghanistan  1993  0.307   3.812448  51.466000   \n",
       "4                 AFG  Afghanistan  1994  0.300   4.104445  51.495000   \n",
       "...               ...          ...   ...    ...        ...        ...   \n",
       "6793        ZZK.WORLD        World  2018  0.735  12.651182  72.816178   \n",
       "6794        ZZK.WORLD        World  2019  0.739  12.726141  73.012121   \n",
       "6795        ZZK.WORLD        World  2020  0.736  12.860674  72.257355   \n",
       "6796        ZZK.WORLD        World  2021  0.735  12.911840  71.365524   \n",
       "6797        ZZK.WORLD        World  2022  0.739  12.989766  72.004070   \n",
       "\n",
       "variable       mys    pop_total  \n",
       "0         0.871962    10.694796  \n",
       "1         0.915267    10.745167  \n",
       "2         0.958573    12.057433  \n",
       "3         1.001878    14.003760  \n",
       "4         1.045184    15.455554  \n",
       "...            ...          ...  \n",
       "6793      8.483187  7649.567694  \n",
       "6794      8.574383  7730.660623  \n",
       "6795      8.686374  7806.602793  \n",
       "6796      8.682265  7874.877719  \n",
       "6797      8.661598  7940.608797  \n",
       "\n",
       "[6798 rows x 8 columns]"
      ]
     },
     "execution_count": 137,
     "metadata": {},
     "output_type": "execute_result"
    }
   ],
   "source": [
    "\n",
    "# Usar pd.melt para aplanar el DataFrame\n",
    "df_melted = pd.melt(indicators_data, id_vars=['Country Code', 'country'], var_name='variable_year', value_name='value')\n",
    "\n",
    "# Separar 'variable' y 'year' usando rsplit\n",
    "df_melted[['variable', 'Year']] = df_melted['variable_year'].str.rsplit('_', n=1, expand=True)\n",
    "\n",
    "# Pivotar para tener una columna por cada variable\n",
    "indicators_data = df_melted.pivot_table(index=['Country Code', 'country', 'Year'], columns='variable', values='value').reset_index()\n",
    "\n",
    "# Eliminar variables extras\n",
    "columns_to_keep = ['Country Code', 'country', 'Year', 'hdi', 'eys', 'le', 'mys', 'pop_total']\n",
    "\n",
    "# Seleccionar solo las columnas que están en la lista\n",
    "indicators_data = indicators_data.loc[:, columns_to_keep]\n",
    "indicators_data\n",
    "\n",
    "# hdi - IDH\n",
    "# eys: Años esperados de escolarización (Expected Years of Schooling)\n",
    "# le: Esperanza de vida al nacer (Life Expectancy)\n",
    "# mys: Años medios de escolarización (Mean Years of Schooling)\n",
    "# pop_total: Población total\n",
    "# ineq_edu: Desigualdad en educación\n",
    "# ineq_inc: Desigualdad en ingresos\n",
    "# coef_ineq: Coeficiente de desigualdad (posiblemente el coeficiente de Gini)\n"
   ]
  },
  {
   "cell_type": "code",
   "execution_count": 138,
   "metadata": {},
   "outputs": [
    {
     "data": {
      "text/html": [
       "<div>\n",
       "<style scoped>\n",
       "    .dataframe tbody tr th:only-of-type {\n",
       "        vertical-align: middle;\n",
       "    }\n",
       "\n",
       "    .dataframe tbody tr th {\n",
       "        vertical-align: top;\n",
       "    }\n",
       "\n",
       "    .dataframe thead th {\n",
       "        text-align: right;\n",
       "    }\n",
       "</style>\n",
       "<table border=\"1\" class=\"dataframe\">\n",
       "  <thead>\n",
       "    <tr style=\"text-align: right;\">\n",
       "      <th></th>\n",
       "      <th>Country Code</th>\n",
       "      <th>Year</th>\n",
       "      <th>Access to clean fuels and technologies for cooking (% of population)</th>\n",
       "      <th>Access to electricity (% of population)</th>\n",
       "      <th>Adolescent fertility rate (births per 1000 women ages 15-19)</th>\n",
       "      <th>Adolescents out of school (% of lower secondary school age)</th>\n",
       "      <th>Employment in agriculture (% of total employment) (modeled ILO estimate)</th>\n",
       "      <th>Employment in industry (% of total employment) (modeled ILO estimate)</th>\n",
       "      <th>Employment in services (% of total employment) (modeled ILO estimate)</th>\n",
       "      <th>GDP per capita (current US$)</th>\n",
       "      <th>...</th>\n",
       "      <th>People using safely managed drinking water services (% of population)</th>\n",
       "      <th>Primary completion rate total (% of relevant age group)</th>\n",
       "      <th>Unemployment total (% of total labor force) (modeled ILO estimate)</th>\n",
       "      <th>Urban population (% of total population)</th>\n",
       "      <th>country</th>\n",
       "      <th>hdi</th>\n",
       "      <th>eys</th>\n",
       "      <th>le</th>\n",
       "      <th>mys</th>\n",
       "      <th>pop_total</th>\n",
       "    </tr>\n",
       "  </thead>\n",
       "  <tbody>\n",
       "    <tr>\n",
       "      <th>0</th>\n",
       "      <td>AFG</td>\n",
       "      <td>1990</td>\n",
       "      <td>NaN</td>\n",
       "      <td>NaN</td>\n",
       "      <td>162.8354</td>\n",
       "      <td>NaN</td>\n",
       "      <td>NaN</td>\n",
       "      <td>NaN</td>\n",
       "      <td>NaN</td>\n",
       "      <td>NaN</td>\n",
       "      <td>...</td>\n",
       "      <td>NaN</td>\n",
       "      <td>NaN</td>\n",
       "      <td>NaN</td>\n",
       "      <td>21.177</td>\n",
       "      <td>Afghanistan</td>\n",
       "      <td>0.284</td>\n",
       "      <td>2.936460</td>\n",
       "      <td>45.967</td>\n",
       "      <td>0.871962</td>\n",
       "      <td>10.694796</td>\n",
       "    </tr>\n",
       "    <tr>\n",
       "      <th>1</th>\n",
       "      <td>AFG</td>\n",
       "      <td>1991</td>\n",
       "      <td>NaN</td>\n",
       "      <td>NaN</td>\n",
       "      <td>163.3822</td>\n",
       "      <td>NaN</td>\n",
       "      <td>63.430000</td>\n",
       "      <td>12.43</td>\n",
       "      <td>24.139999</td>\n",
       "      <td>NaN</td>\n",
       "      <td>...</td>\n",
       "      <td>NaN</td>\n",
       "      <td>NaN</td>\n",
       "      <td>10.649</td>\n",
       "      <td>21.266</td>\n",
       "      <td>Afghanistan</td>\n",
       "      <td>0.292</td>\n",
       "      <td>3.228456</td>\n",
       "      <td>46.663</td>\n",
       "      <td>0.915267</td>\n",
       "      <td>10.745167</td>\n",
       "    </tr>\n",
       "    <tr>\n",
       "      <th>2</th>\n",
       "      <td>AFG</td>\n",
       "      <td>1992</td>\n",
       "      <td>NaN</td>\n",
       "      <td>NaN</td>\n",
       "      <td>163.9290</td>\n",
       "      <td>NaN</td>\n",
       "      <td>63.650002</td>\n",
       "      <td>12.21</td>\n",
       "      <td>24.139999</td>\n",
       "      <td>NaN</td>\n",
       "      <td>...</td>\n",
       "      <td>NaN</td>\n",
       "      <td>NaN</td>\n",
       "      <td>10.821</td>\n",
       "      <td>21.355</td>\n",
       "      <td>Afghanistan</td>\n",
       "      <td>0.299</td>\n",
       "      <td>3.520452</td>\n",
       "      <td>47.596</td>\n",
       "      <td>0.958573</td>\n",
       "      <td>12.057433</td>\n",
       "    </tr>\n",
       "    <tr>\n",
       "      <th>3</th>\n",
       "      <td>AFG</td>\n",
       "      <td>1993</td>\n",
       "      <td>NaN</td>\n",
       "      <td>NaN</td>\n",
       "      <td>164.1888</td>\n",
       "      <td>NaN</td>\n",
       "      <td>64.410004</td>\n",
       "      <td>11.57</td>\n",
       "      <td>24.030001</td>\n",
       "      <td>NaN</td>\n",
       "      <td>...</td>\n",
       "      <td>NaN</td>\n",
       "      <td>27.575171</td>\n",
       "      <td>10.723</td>\n",
       "      <td>21.444</td>\n",
       "      <td>Afghanistan</td>\n",
       "      <td>0.307</td>\n",
       "      <td>3.812448</td>\n",
       "      <td>51.466</td>\n",
       "      <td>1.001878</td>\n",
       "      <td>14.003760</td>\n",
       "    </tr>\n",
       "    <tr>\n",
       "      <th>4</th>\n",
       "      <td>AFG</td>\n",
       "      <td>1994</td>\n",
       "      <td>NaN</td>\n",
       "      <td>NaN</td>\n",
       "      <td>164.4486</td>\n",
       "      <td>NaN</td>\n",
       "      <td>64.440002</td>\n",
       "      <td>11.48</td>\n",
       "      <td>24.080000</td>\n",
       "      <td>NaN</td>\n",
       "      <td>...</td>\n",
       "      <td>NaN</td>\n",
       "      <td>NaN</td>\n",
       "      <td>10.726</td>\n",
       "      <td>21.534</td>\n",
       "      <td>Afghanistan</td>\n",
       "      <td>0.300</td>\n",
       "      <td>4.104445</td>\n",
       "      <td>51.495</td>\n",
       "      <td>1.045184</td>\n",
       "      <td>15.455554</td>\n",
       "    </tr>\n",
       "    <tr>\n",
       "      <th>...</th>\n",
       "      <td>...</td>\n",
       "      <td>...</td>\n",
       "      <td>...</td>\n",
       "      <td>...</td>\n",
       "      <td>...</td>\n",
       "      <td>...</td>\n",
       "      <td>...</td>\n",
       "      <td>...</td>\n",
       "      <td>...</td>\n",
       "      <td>...</td>\n",
       "      <td>...</td>\n",
       "      <td>...</td>\n",
       "      <td>...</td>\n",
       "      <td>...</td>\n",
       "      <td>...</td>\n",
       "      <td>...</td>\n",
       "      <td>...</td>\n",
       "      <td>...</td>\n",
       "      <td>...</td>\n",
       "      <td>...</td>\n",
       "      <td>...</td>\n",
       "    </tr>\n",
       "    <tr>\n",
       "      <th>6040</th>\n",
       "      <td>ZWE</td>\n",
       "      <td>2016</td>\n",
       "      <td>29.8</td>\n",
       "      <td>42.561729</td>\n",
       "      <td>90.6766</td>\n",
       "      <td>2.261470</td>\n",
       "      <td>66.879997</td>\n",
       "      <td>7.05</td>\n",
       "      <td>26.070000</td>\n",
       "      <td>1464.588957</td>\n",
       "      <td>...</td>\n",
       "      <td>30.183683</td>\n",
       "      <td>99.265839</td>\n",
       "      <td>4.788</td>\n",
       "      <td>32.296</td>\n",
       "      <td>Zimbabwe</td>\n",
       "      <td>0.547</td>\n",
       "      <td>10.899038</td>\n",
       "      <td>60.306</td>\n",
       "      <td>8.425370</td>\n",
       "      <td>14.452704</td>\n",
       "    </tr>\n",
       "    <tr>\n",
       "      <th>6041</th>\n",
       "      <td>ZWE</td>\n",
       "      <td>2017</td>\n",
       "      <td>29.8</td>\n",
       "      <td>44.178635</td>\n",
       "      <td>86.1350</td>\n",
       "      <td>2.356790</td>\n",
       "      <td>66.480003</td>\n",
       "      <td>6.90</td>\n",
       "      <td>26.629999</td>\n",
       "      <td>1235.189032</td>\n",
       "      <td>...</td>\n",
       "      <td>29.997683</td>\n",
       "      <td>95.476372</td>\n",
       "      <td>4.785</td>\n",
       "      <td>32.237</td>\n",
       "      <td>Zimbabwe</td>\n",
       "      <td>0.552</td>\n",
       "      <td>10.930538</td>\n",
       "      <td>60.709</td>\n",
       "      <td>8.461690</td>\n",
       "      <td>14.751101</td>\n",
       "    </tr>\n",
       "    <tr>\n",
       "      <th>6042</th>\n",
       "      <td>ZWE</td>\n",
       "      <td>2018</td>\n",
       "      <td>29.9</td>\n",
       "      <td>45.572647</td>\n",
       "      <td>83.2486</td>\n",
       "      <td>6.226070</td>\n",
       "      <td>66.019997</td>\n",
       "      <td>6.75</td>\n",
       "      <td>27.230000</td>\n",
       "      <td>1254.642265</td>\n",
       "      <td>...</td>\n",
       "      <td>29.827913</td>\n",
       "      <td>92.195152</td>\n",
       "      <td>4.796</td>\n",
       "      <td>32.209</td>\n",
       "      <td>Zimbabwe</td>\n",
       "      <td>0.564</td>\n",
       "      <td>10.962130</td>\n",
       "      <td>61.414</td>\n",
       "      <td>8.574575</td>\n",
       "      <td>15.052184</td>\n",
       "    </tr>\n",
       "    <tr>\n",
       "      <th>6043</th>\n",
       "      <td>ZWE</td>\n",
       "      <td>2019</td>\n",
       "      <td>30.1</td>\n",
       "      <td>46.781475</td>\n",
       "      <td>80.3622</td>\n",
       "      <td>7.544310</td>\n",
       "      <td>66.190002</td>\n",
       "      <td>6.57</td>\n",
       "      <td>27.240000</td>\n",
       "      <td>1316.740657</td>\n",
       "      <td>...</td>\n",
       "      <td>29.673569</td>\n",
       "      <td>88.508812</td>\n",
       "      <td>4.833</td>\n",
       "      <td>32.210</td>\n",
       "      <td>Zimbabwe</td>\n",
       "      <td>0.560</td>\n",
       "      <td>10.993813</td>\n",
       "      <td>61.292</td>\n",
       "      <td>8.687460</td>\n",
       "      <td>15.354608</td>\n",
       "    </tr>\n",
       "    <tr>\n",
       "      <th>6044</th>\n",
       "      <td>ZWE</td>\n",
       "      <td>2020</td>\n",
       "      <td>30.4</td>\n",
       "      <td>52.747669</td>\n",
       "      <td>77.4758</td>\n",
       "      <td>21.875412</td>\n",
       "      <td>NaN</td>\n",
       "      <td>NaN</td>\n",
       "      <td>NaN</td>\n",
       "      <td>1214.509820</td>\n",
       "      <td>...</td>\n",
       "      <td>29.535890</td>\n",
       "      <td>90.017349</td>\n",
       "      <td>5.351</td>\n",
       "      <td>32.242</td>\n",
       "      <td>Zimbabwe</td>\n",
       "      <td>0.554</td>\n",
       "      <td>11.025587</td>\n",
       "      <td>61.124</td>\n",
       "      <td>8.807763</td>\n",
       "      <td>15.669666</td>\n",
       "    </tr>\n",
       "  </tbody>\n",
       "</table>\n",
       "<p>6045 rows × 24 columns</p>\n",
       "</div>"
      ],
      "text/plain": [
       "     Country Code  Year  \\\n",
       "0             AFG  1990   \n",
       "1             AFG  1991   \n",
       "2             AFG  1992   \n",
       "3             AFG  1993   \n",
       "4             AFG  1994   \n",
       "...           ...   ...   \n",
       "6040          ZWE  2016   \n",
       "6041          ZWE  2017   \n",
       "6042          ZWE  2018   \n",
       "6043          ZWE  2019   \n",
       "6044          ZWE  2020   \n",
       "\n",
       "      Access to clean fuels and technologies for cooking (% of population)  \\\n",
       "0                                                   NaN                      \n",
       "1                                                   NaN                      \n",
       "2                                                   NaN                      \n",
       "3                                                   NaN                      \n",
       "4                                                   NaN                      \n",
       "...                                                 ...                      \n",
       "6040                                               29.8                      \n",
       "6041                                               29.8                      \n",
       "6042                                               29.9                      \n",
       "6043                                               30.1                      \n",
       "6044                                               30.4                      \n",
       "\n",
       "      Access to electricity (% of population)  \\\n",
       "0                                         NaN   \n",
       "1                                         NaN   \n",
       "2                                         NaN   \n",
       "3                                         NaN   \n",
       "4                                         NaN   \n",
       "...                                       ...   \n",
       "6040                                42.561729   \n",
       "6041                                44.178635   \n",
       "6042                                45.572647   \n",
       "6043                                46.781475   \n",
       "6044                                52.747669   \n",
       "\n",
       "      Adolescent fertility rate (births per 1000 women ages 15-19)  \\\n",
       "0                                              162.8354              \n",
       "1                                              163.3822              \n",
       "2                                              163.9290              \n",
       "3                                              164.1888              \n",
       "4                                              164.4486              \n",
       "...                                                 ...              \n",
       "6040                                            90.6766              \n",
       "6041                                            86.1350              \n",
       "6042                                            83.2486              \n",
       "6043                                            80.3622              \n",
       "6044                                            77.4758              \n",
       "\n",
       "      Adolescents out of school (% of lower secondary school age)  \\\n",
       "0                                                   NaN             \n",
       "1                                                   NaN             \n",
       "2                                                   NaN             \n",
       "3                                                   NaN             \n",
       "4                                                   NaN             \n",
       "...                                                 ...             \n",
       "6040                                           2.261470             \n",
       "6041                                           2.356790             \n",
       "6042                                           6.226070             \n",
       "6043                                           7.544310             \n",
       "6044                                          21.875412             \n",
       "\n",
       "      Employment in agriculture (% of total employment) (modeled ILO estimate)  \\\n",
       "0                                                   NaN                          \n",
       "1                                             63.430000                          \n",
       "2                                             63.650002                          \n",
       "3                                             64.410004                          \n",
       "4                                             64.440002                          \n",
       "...                                                 ...                          \n",
       "6040                                          66.879997                          \n",
       "6041                                          66.480003                          \n",
       "6042                                          66.019997                          \n",
       "6043                                          66.190002                          \n",
       "6044                                                NaN                          \n",
       "\n",
       "      Employment in industry (% of total employment) (modeled ILO estimate)  \\\n",
       "0                                                   NaN                       \n",
       "1                                                 12.43                       \n",
       "2                                                 12.21                       \n",
       "3                                                 11.57                       \n",
       "4                                                 11.48                       \n",
       "...                                                 ...                       \n",
       "6040                                               7.05                       \n",
       "6041                                               6.90                       \n",
       "6042                                               6.75                       \n",
       "6043                                               6.57                       \n",
       "6044                                                NaN                       \n",
       "\n",
       "      Employment in services (% of total employment) (modeled ILO estimate)  \\\n",
       "0                                                   NaN                       \n",
       "1                                             24.139999                       \n",
       "2                                             24.139999                       \n",
       "3                                             24.030001                       \n",
       "4                                             24.080000                       \n",
       "...                                                 ...                       \n",
       "6040                                          26.070000                       \n",
       "6041                                          26.629999                       \n",
       "6042                                          27.230000                       \n",
       "6043                                          27.240000                       \n",
       "6044                                                NaN                       \n",
       "\n",
       "      GDP per capita (current US$)  ...  \\\n",
       "0                              NaN  ...   \n",
       "1                              NaN  ...   \n",
       "2                              NaN  ...   \n",
       "3                              NaN  ...   \n",
       "4                              NaN  ...   \n",
       "...                            ...  ...   \n",
       "6040                   1464.588957  ...   \n",
       "6041                   1235.189032  ...   \n",
       "6042                   1254.642265  ...   \n",
       "6043                   1316.740657  ...   \n",
       "6044                   1214.509820  ...   \n",
       "\n",
       "      People using safely managed drinking water services (% of population)  \\\n",
       "0                                                   NaN                       \n",
       "1                                                   NaN                       \n",
       "2                                                   NaN                       \n",
       "3                                                   NaN                       \n",
       "4                                                   NaN                       \n",
       "...                                                 ...                       \n",
       "6040                                          30.183683                       \n",
       "6041                                          29.997683                       \n",
       "6042                                          29.827913                       \n",
       "6043                                          29.673569                       \n",
       "6044                                          29.535890                       \n",
       "\n",
       "      Primary completion rate total (% of relevant age group)  \\\n",
       "0                                                   NaN         \n",
       "1                                                   NaN         \n",
       "2                                                   NaN         \n",
       "3                                             27.575171         \n",
       "4                                                   NaN         \n",
       "...                                                 ...         \n",
       "6040                                          99.265839         \n",
       "6041                                          95.476372         \n",
       "6042                                          92.195152         \n",
       "6043                                          88.508812         \n",
       "6044                                          90.017349         \n",
       "\n",
       "      Unemployment total (% of total labor force) (modeled ILO estimate)  \\\n",
       "0                                                   NaN                    \n",
       "1                                                10.649                    \n",
       "2                                                10.821                    \n",
       "3                                                10.723                    \n",
       "4                                                10.726                    \n",
       "...                                                 ...                    \n",
       "6040                                              4.788                    \n",
       "6041                                              4.785                    \n",
       "6042                                              4.796                    \n",
       "6043                                              4.833                    \n",
       "6044                                              5.351                    \n",
       "\n",
       "      Urban population (% of total population)      country    hdi        eys  \\\n",
       "0                                       21.177  Afghanistan  0.284   2.936460   \n",
       "1                                       21.266  Afghanistan  0.292   3.228456   \n",
       "2                                       21.355  Afghanistan  0.299   3.520452   \n",
       "3                                       21.444  Afghanistan  0.307   3.812448   \n",
       "4                                       21.534  Afghanistan  0.300   4.104445   \n",
       "...                                        ...          ...    ...        ...   \n",
       "6040                                    32.296     Zimbabwe  0.547  10.899038   \n",
       "6041                                    32.237     Zimbabwe  0.552  10.930538   \n",
       "6042                                    32.209     Zimbabwe  0.564  10.962130   \n",
       "6043                                    32.210     Zimbabwe  0.560  10.993813   \n",
       "6044                                    32.242     Zimbabwe  0.554  11.025587   \n",
       "\n",
       "          le       mys  pop_total  \n",
       "0     45.967  0.871962  10.694796  \n",
       "1     46.663  0.915267  10.745167  \n",
       "2     47.596  0.958573  12.057433  \n",
       "3     51.466  1.001878  14.003760  \n",
       "4     51.495  1.045184  15.455554  \n",
       "...      ...       ...        ...  \n",
       "6040  60.306  8.425370  14.452704  \n",
       "6041  60.709  8.461690  14.751101  \n",
       "6042  61.414  8.574575  15.052184  \n",
       "6043  61.292  8.687460  15.354608  \n",
       "6044  61.124  8.807763  15.669666  \n",
       "\n",
       "[6045 rows x 24 columns]"
      ]
     },
     "execution_count": 138,
     "metadata": {},
     "output_type": "execute_result"
    }
   ],
   "source": [
    "data = pd.merge(ods_data, indicators_data, on=['Country Code', 'Year'])\n",
    "data"
   ]
  },
  {
   "cell_type": "code",
   "execution_count": 139,
   "metadata": {},
   "outputs": [],
   "source": [
    "# Eliminar columnas\n",
    "df_clean = data.drop(['People using safely managed drinking water services (% of population)', 'Adolescents out of school (% of lower secondary school age)', 'Households and NPISHs Final consumption expenditure (annual % growth)'], axis=1)"
   ]
  },
  {
   "cell_type": "code",
   "execution_count": 140,
   "metadata": {},
   "outputs": [
    {
     "name": "stdout",
     "output_type": "stream",
     "text": [
      "Valores pre limpieza\n",
      "Valores NaN:\n",
      " Country Code                                                                   0\n",
      "Year                                                                           0\n",
      "Access to clean fuels and technologies for cooking (% of population)        2059\n",
      "Access to electricity (% of population)                                      787\n",
      "Adolescent fertility rate (births per 1000 women ages 15-19)                 310\n",
      "Employment in agriculture (% of total employment) (modeled ILO estimate)     825\n",
      "Employment in industry (% of total employment) (modeled ILO estimate)        825\n",
      "Employment in services (% of total employment) (modeled ILO estimate)        825\n",
      "GDP per capita (current US$)                                                 247\n",
      "Individuals using the Internet (% of population)                             336\n",
      "People using at least basic drinking water services (% of population)       2025\n",
      "People using at least basic sanitation services (% of population)           2034\n",
      "Primary completion rate total (% of relevant age group)                     2633\n",
      "Unemployment total (% of total labor force) (modeled ILO estimate)           645\n",
      "Urban population (% of total population)                                       0\n",
      "country                                                                        0\n",
      "hdi                                                                          622\n",
      "eys                                                                          245\n",
      "le                                                                             0\n",
      "mys                                                                          539\n",
      "pop_total                                                                      0\n",
      "dtype: int64\n"
     ]
    }
   ],
   "source": [
    "print(\"Valores pre limpieza\")\n",
    "print(\"Valores NaN:\\n\", df_clean.isna().sum())\n",
    "\n",
    "numeric_columns = df_clean.select_dtypes(include=['float64', 'int64']).columns\n",
    "column_means = df_clean[numeric_columns].mean()\n",
    "#df_clean =  data.copy()  # Copia del DataFrame original para no modificarlo directamente\n",
    "df_clean[numeric_columns] = df_clean[numeric_columns].fillna(column_means)\n",
    "#print(\"Valores NaN:\\n\", df_clean.isna().sum())\n",
    "#df_clean = df_clean.dropna()"
   ]
  },
  {
   "cell_type": "code",
   "execution_count": 141,
   "metadata": {},
   "outputs": [
    {
     "data": {
      "text/html": [
       "<div>\n",
       "<style scoped>\n",
       "    .dataframe tbody tr th:only-of-type {\n",
       "        vertical-align: middle;\n",
       "    }\n",
       "\n",
       "    .dataframe tbody tr th {\n",
       "        vertical-align: top;\n",
       "    }\n",
       "\n",
       "    .dataframe thead th {\n",
       "        text-align: right;\n",
       "    }\n",
       "</style>\n",
       "<table border=\"1\" class=\"dataframe\">\n",
       "  <thead>\n",
       "    <tr style=\"text-align: right;\">\n",
       "      <th></th>\n",
       "      <th>Country Code</th>\n",
       "      <th>Year</th>\n",
       "      <th>Access to clean fuels and technologies for cooking (% of population)</th>\n",
       "      <th>Access to electricity (% of population)</th>\n",
       "      <th>Adolescent fertility rate (births per 1000 women ages 15-19)</th>\n",
       "      <th>Employment in agriculture (% of total employment) (modeled ILO estimate)</th>\n",
       "      <th>Employment in industry (% of total employment) (modeled ILO estimate)</th>\n",
       "      <th>Employment in services (% of total employment) (modeled ILO estimate)</th>\n",
       "      <th>GDP per capita (current US$)</th>\n",
       "      <th>Individuals using the Internet (% of population)</th>\n",
       "      <th>...</th>\n",
       "      <th>People using at least basic sanitation services (% of population)</th>\n",
       "      <th>Primary completion rate total (% of relevant age group)</th>\n",
       "      <th>Unemployment total (% of total labor force) (modeled ILO estimate)</th>\n",
       "      <th>Urban population (% of total population)</th>\n",
       "      <th>country</th>\n",
       "      <th>hdi</th>\n",
       "      <th>eys</th>\n",
       "      <th>le</th>\n",
       "      <th>mys</th>\n",
       "      <th>pop_total</th>\n",
       "    </tr>\n",
       "  </thead>\n",
       "  <tbody>\n",
       "    <tr>\n",
       "      <th>0</th>\n",
       "      <td>AFG</td>\n",
       "      <td>1990</td>\n",
       "      <td>62.983721</td>\n",
       "      <td>79.109812</td>\n",
       "      <td>162.8354</td>\n",
       "      <td>30.544245</td>\n",
       "      <td>19.891328</td>\n",
       "      <td>49.565843</td>\n",
       "      <td>11208.654030</td>\n",
       "      <td>0.000000</td>\n",
       "      <td>...</td>\n",
       "      <td>71.981983</td>\n",
       "      <td>85.880304</td>\n",
       "      <td>8.220484</td>\n",
       "      <td>21.177</td>\n",
       "      <td>Afghanistan</td>\n",
       "      <td>0.284</td>\n",
       "      <td>2.936460</td>\n",
       "      <td>45.967</td>\n",
       "      <td>0.871962</td>\n",
       "      <td>10.694796</td>\n",
       "    </tr>\n",
       "    <tr>\n",
       "      <th>1</th>\n",
       "      <td>AFG</td>\n",
       "      <td>1991</td>\n",
       "      <td>62.983721</td>\n",
       "      <td>79.109812</td>\n",
       "      <td>163.3822</td>\n",
       "      <td>63.430000</td>\n",
       "      <td>12.430000</td>\n",
       "      <td>24.139999</td>\n",
       "      <td>11208.654030</td>\n",
       "      <td>0.000000</td>\n",
       "      <td>...</td>\n",
       "      <td>71.981983</td>\n",
       "      <td>85.880304</td>\n",
       "      <td>10.649000</td>\n",
       "      <td>21.266</td>\n",
       "      <td>Afghanistan</td>\n",
       "      <td>0.292</td>\n",
       "      <td>3.228456</td>\n",
       "      <td>46.663</td>\n",
       "      <td>0.915267</td>\n",
       "      <td>10.745167</td>\n",
       "    </tr>\n",
       "    <tr>\n",
       "      <th>2</th>\n",
       "      <td>AFG</td>\n",
       "      <td>1992</td>\n",
       "      <td>62.983721</td>\n",
       "      <td>79.109812</td>\n",
       "      <td>163.9290</td>\n",
       "      <td>63.650002</td>\n",
       "      <td>12.210000</td>\n",
       "      <td>24.139999</td>\n",
       "      <td>11208.654030</td>\n",
       "      <td>0.000000</td>\n",
       "      <td>...</td>\n",
       "      <td>71.981983</td>\n",
       "      <td>85.880304</td>\n",
       "      <td>10.821000</td>\n",
       "      <td>21.355</td>\n",
       "      <td>Afghanistan</td>\n",
       "      <td>0.299</td>\n",
       "      <td>3.520452</td>\n",
       "      <td>47.596</td>\n",
       "      <td>0.958573</td>\n",
       "      <td>12.057433</td>\n",
       "    </tr>\n",
       "    <tr>\n",
       "      <th>3</th>\n",
       "      <td>AFG</td>\n",
       "      <td>1993</td>\n",
       "      <td>62.983721</td>\n",
       "      <td>79.109812</td>\n",
       "      <td>164.1888</td>\n",
       "      <td>64.410004</td>\n",
       "      <td>11.570000</td>\n",
       "      <td>24.030001</td>\n",
       "      <td>11208.654030</td>\n",
       "      <td>0.000000</td>\n",
       "      <td>...</td>\n",
       "      <td>71.981983</td>\n",
       "      <td>27.575171</td>\n",
       "      <td>10.723000</td>\n",
       "      <td>21.444</td>\n",
       "      <td>Afghanistan</td>\n",
       "      <td>0.307</td>\n",
       "      <td>3.812448</td>\n",
       "      <td>51.466</td>\n",
       "      <td>1.001878</td>\n",
       "      <td>14.003760</td>\n",
       "    </tr>\n",
       "    <tr>\n",
       "      <th>4</th>\n",
       "      <td>AFG</td>\n",
       "      <td>1994</td>\n",
       "      <td>62.983721</td>\n",
       "      <td>79.109812</td>\n",
       "      <td>164.4486</td>\n",
       "      <td>64.440002</td>\n",
       "      <td>11.480000</td>\n",
       "      <td>24.080000</td>\n",
       "      <td>11208.654030</td>\n",
       "      <td>0.000000</td>\n",
       "      <td>...</td>\n",
       "      <td>71.981983</td>\n",
       "      <td>85.880304</td>\n",
       "      <td>10.726000</td>\n",
       "      <td>21.534</td>\n",
       "      <td>Afghanistan</td>\n",
       "      <td>0.300</td>\n",
       "      <td>4.104445</td>\n",
       "      <td>51.495</td>\n",
       "      <td>1.045184</td>\n",
       "      <td>15.455554</td>\n",
       "    </tr>\n",
       "    <tr>\n",
       "      <th>...</th>\n",
       "      <td>...</td>\n",
       "      <td>...</td>\n",
       "      <td>...</td>\n",
       "      <td>...</td>\n",
       "      <td>...</td>\n",
       "      <td>...</td>\n",
       "      <td>...</td>\n",
       "      <td>...</td>\n",
       "      <td>...</td>\n",
       "      <td>...</td>\n",
       "      <td>...</td>\n",
       "      <td>...</td>\n",
       "      <td>...</td>\n",
       "      <td>...</td>\n",
       "      <td>...</td>\n",
       "      <td>...</td>\n",
       "      <td>...</td>\n",
       "      <td>...</td>\n",
       "      <td>...</td>\n",
       "      <td>...</td>\n",
       "      <td>...</td>\n",
       "    </tr>\n",
       "    <tr>\n",
       "      <th>6040</th>\n",
       "      <td>ZWE</td>\n",
       "      <td>2016</td>\n",
       "      <td>29.800000</td>\n",
       "      <td>42.561729</td>\n",
       "      <td>90.6766</td>\n",
       "      <td>66.879997</td>\n",
       "      <td>7.050000</td>\n",
       "      <td>26.070000</td>\n",
       "      <td>1464.588957</td>\n",
       "      <td>23.119989</td>\n",
       "      <td>...</td>\n",
       "      <td>37.529193</td>\n",
       "      <td>99.265839</td>\n",
       "      <td>4.788000</td>\n",
       "      <td>32.296</td>\n",
       "      <td>Zimbabwe</td>\n",
       "      <td>0.547</td>\n",
       "      <td>10.899038</td>\n",
       "      <td>60.306</td>\n",
       "      <td>8.425370</td>\n",
       "      <td>14.452704</td>\n",
       "    </tr>\n",
       "    <tr>\n",
       "      <th>6041</th>\n",
       "      <td>ZWE</td>\n",
       "      <td>2017</td>\n",
       "      <td>29.800000</td>\n",
       "      <td>44.178635</td>\n",
       "      <td>86.1350</td>\n",
       "      <td>66.480003</td>\n",
       "      <td>6.900000</td>\n",
       "      <td>26.629999</td>\n",
       "      <td>1235.189032</td>\n",
       "      <td>24.400000</td>\n",
       "      <td>...</td>\n",
       "      <td>36.941673</td>\n",
       "      <td>95.476372</td>\n",
       "      <td>4.785000</td>\n",
       "      <td>32.237</td>\n",
       "      <td>Zimbabwe</td>\n",
       "      <td>0.552</td>\n",
       "      <td>10.930538</td>\n",
       "      <td>60.709</td>\n",
       "      <td>8.461690</td>\n",
       "      <td>14.751101</td>\n",
       "    </tr>\n",
       "    <tr>\n",
       "      <th>6042</th>\n",
       "      <td>ZWE</td>\n",
       "      <td>2018</td>\n",
       "      <td>29.900000</td>\n",
       "      <td>45.572647</td>\n",
       "      <td>83.2486</td>\n",
       "      <td>66.019997</td>\n",
       "      <td>6.750000</td>\n",
       "      <td>27.230000</td>\n",
       "      <td>1254.642265</td>\n",
       "      <td>25.000000</td>\n",
       "      <td>...</td>\n",
       "      <td>36.357160</td>\n",
       "      <td>92.195152</td>\n",
       "      <td>4.796000</td>\n",
       "      <td>32.209</td>\n",
       "      <td>Zimbabwe</td>\n",
       "      <td>0.564</td>\n",
       "      <td>10.962130</td>\n",
       "      <td>61.414</td>\n",
       "      <td>8.574575</td>\n",
       "      <td>15.052184</td>\n",
       "    </tr>\n",
       "    <tr>\n",
       "      <th>6043</th>\n",
       "      <td>ZWE</td>\n",
       "      <td>2019</td>\n",
       "      <td>30.100000</td>\n",
       "      <td>46.781475</td>\n",
       "      <td>80.3622</td>\n",
       "      <td>66.190002</td>\n",
       "      <td>6.570000</td>\n",
       "      <td>27.240000</td>\n",
       "      <td>1316.740657</td>\n",
       "      <td>25.100000</td>\n",
       "      <td>...</td>\n",
       "      <td>35.774337</td>\n",
       "      <td>88.508812</td>\n",
       "      <td>4.833000</td>\n",
       "      <td>32.210</td>\n",
       "      <td>Zimbabwe</td>\n",
       "      <td>0.560</td>\n",
       "      <td>10.993813</td>\n",
       "      <td>61.292</td>\n",
       "      <td>8.687460</td>\n",
       "      <td>15.354608</td>\n",
       "    </tr>\n",
       "    <tr>\n",
       "      <th>6044</th>\n",
       "      <td>ZWE</td>\n",
       "      <td>2020</td>\n",
       "      <td>30.400000</td>\n",
       "      <td>52.747669</td>\n",
       "      <td>77.4758</td>\n",
       "      <td>30.544245</td>\n",
       "      <td>19.891328</td>\n",
       "      <td>49.565843</td>\n",
       "      <td>1214.509820</td>\n",
       "      <td>29.300000</td>\n",
       "      <td>...</td>\n",
       "      <td>35.192363</td>\n",
       "      <td>90.017349</td>\n",
       "      <td>5.351000</td>\n",
       "      <td>32.242</td>\n",
       "      <td>Zimbabwe</td>\n",
       "      <td>0.554</td>\n",
       "      <td>11.025587</td>\n",
       "      <td>61.124</td>\n",
       "      <td>8.807763</td>\n",
       "      <td>15.669666</td>\n",
       "    </tr>\n",
       "  </tbody>\n",
       "</table>\n",
       "<p>6045 rows × 21 columns</p>\n",
       "</div>"
      ],
      "text/plain": [
       "     Country Code  Year  \\\n",
       "0             AFG  1990   \n",
       "1             AFG  1991   \n",
       "2             AFG  1992   \n",
       "3             AFG  1993   \n",
       "4             AFG  1994   \n",
       "...           ...   ...   \n",
       "6040          ZWE  2016   \n",
       "6041          ZWE  2017   \n",
       "6042          ZWE  2018   \n",
       "6043          ZWE  2019   \n",
       "6044          ZWE  2020   \n",
       "\n",
       "      Access to clean fuels and technologies for cooking (% of population)  \\\n",
       "0                                             62.983721                      \n",
       "1                                             62.983721                      \n",
       "2                                             62.983721                      \n",
       "3                                             62.983721                      \n",
       "4                                             62.983721                      \n",
       "...                                                 ...                      \n",
       "6040                                          29.800000                      \n",
       "6041                                          29.800000                      \n",
       "6042                                          29.900000                      \n",
       "6043                                          30.100000                      \n",
       "6044                                          30.400000                      \n",
       "\n",
       "      Access to electricity (% of population)  \\\n",
       "0                                   79.109812   \n",
       "1                                   79.109812   \n",
       "2                                   79.109812   \n",
       "3                                   79.109812   \n",
       "4                                   79.109812   \n",
       "...                                       ...   \n",
       "6040                                42.561729   \n",
       "6041                                44.178635   \n",
       "6042                                45.572647   \n",
       "6043                                46.781475   \n",
       "6044                                52.747669   \n",
       "\n",
       "      Adolescent fertility rate (births per 1000 women ages 15-19)  \\\n",
       "0                                              162.8354              \n",
       "1                                              163.3822              \n",
       "2                                              163.9290              \n",
       "3                                              164.1888              \n",
       "4                                              164.4486              \n",
       "...                                                 ...              \n",
       "6040                                            90.6766              \n",
       "6041                                            86.1350              \n",
       "6042                                            83.2486              \n",
       "6043                                            80.3622              \n",
       "6044                                            77.4758              \n",
       "\n",
       "      Employment in agriculture (% of total employment) (modeled ILO estimate)  \\\n",
       "0                                             30.544245                          \n",
       "1                                             63.430000                          \n",
       "2                                             63.650002                          \n",
       "3                                             64.410004                          \n",
       "4                                             64.440002                          \n",
       "...                                                 ...                          \n",
       "6040                                          66.879997                          \n",
       "6041                                          66.480003                          \n",
       "6042                                          66.019997                          \n",
       "6043                                          66.190002                          \n",
       "6044                                          30.544245                          \n",
       "\n",
       "      Employment in industry (% of total employment) (modeled ILO estimate)  \\\n",
       "0                                             19.891328                       \n",
       "1                                             12.430000                       \n",
       "2                                             12.210000                       \n",
       "3                                             11.570000                       \n",
       "4                                             11.480000                       \n",
       "...                                                 ...                       \n",
       "6040                                           7.050000                       \n",
       "6041                                           6.900000                       \n",
       "6042                                           6.750000                       \n",
       "6043                                           6.570000                       \n",
       "6044                                          19.891328                       \n",
       "\n",
       "      Employment in services (% of total employment) (modeled ILO estimate)  \\\n",
       "0                                             49.565843                       \n",
       "1                                             24.139999                       \n",
       "2                                             24.139999                       \n",
       "3                                             24.030001                       \n",
       "4                                             24.080000                       \n",
       "...                                                 ...                       \n",
       "6040                                          26.070000                       \n",
       "6041                                          26.629999                       \n",
       "6042                                          27.230000                       \n",
       "6043                                          27.240000                       \n",
       "6044                                          49.565843                       \n",
       "\n",
       "      GDP per capita (current US$)  \\\n",
       "0                     11208.654030   \n",
       "1                     11208.654030   \n",
       "2                     11208.654030   \n",
       "3                     11208.654030   \n",
       "4                     11208.654030   \n",
       "...                            ...   \n",
       "6040                   1464.588957   \n",
       "6041                   1235.189032   \n",
       "6042                   1254.642265   \n",
       "6043                   1316.740657   \n",
       "6044                   1214.509820   \n",
       "\n",
       "      Individuals using the Internet (% of population)  ...  \\\n",
       "0                                             0.000000  ...   \n",
       "1                                             0.000000  ...   \n",
       "2                                             0.000000  ...   \n",
       "3                                             0.000000  ...   \n",
       "4                                             0.000000  ...   \n",
       "...                                                ...  ...   \n",
       "6040                                         23.119989  ...   \n",
       "6041                                         24.400000  ...   \n",
       "6042                                         25.000000  ...   \n",
       "6043                                         25.100000  ...   \n",
       "6044                                         29.300000  ...   \n",
       "\n",
       "      People using at least basic sanitation services (% of population)  \\\n",
       "0                                             71.981983                   \n",
       "1                                             71.981983                   \n",
       "2                                             71.981983                   \n",
       "3                                             71.981983                   \n",
       "4                                             71.981983                   \n",
       "...                                                 ...                   \n",
       "6040                                          37.529193                   \n",
       "6041                                          36.941673                   \n",
       "6042                                          36.357160                   \n",
       "6043                                          35.774337                   \n",
       "6044                                          35.192363                   \n",
       "\n",
       "      Primary completion rate total (% of relevant age group)  \\\n",
       "0                                             85.880304         \n",
       "1                                             85.880304         \n",
       "2                                             85.880304         \n",
       "3                                             27.575171         \n",
       "4                                             85.880304         \n",
       "...                                                 ...         \n",
       "6040                                          99.265839         \n",
       "6041                                          95.476372         \n",
       "6042                                          92.195152         \n",
       "6043                                          88.508812         \n",
       "6044                                          90.017349         \n",
       "\n",
       "      Unemployment total (% of total labor force) (modeled ILO estimate)  \\\n",
       "0                                              8.220484                    \n",
       "1                                             10.649000                    \n",
       "2                                             10.821000                    \n",
       "3                                             10.723000                    \n",
       "4                                             10.726000                    \n",
       "...                                                 ...                    \n",
       "6040                                           4.788000                    \n",
       "6041                                           4.785000                    \n",
       "6042                                           4.796000                    \n",
       "6043                                           4.833000                    \n",
       "6044                                           5.351000                    \n",
       "\n",
       "      Urban population (% of total population)      country    hdi        eys  \\\n",
       "0                                       21.177  Afghanistan  0.284   2.936460   \n",
       "1                                       21.266  Afghanistan  0.292   3.228456   \n",
       "2                                       21.355  Afghanistan  0.299   3.520452   \n",
       "3                                       21.444  Afghanistan  0.307   3.812448   \n",
       "4                                       21.534  Afghanistan  0.300   4.104445   \n",
       "...                                        ...          ...    ...        ...   \n",
       "6040                                    32.296     Zimbabwe  0.547  10.899038   \n",
       "6041                                    32.237     Zimbabwe  0.552  10.930538   \n",
       "6042                                    32.209     Zimbabwe  0.564  10.962130   \n",
       "6043                                    32.210     Zimbabwe  0.560  10.993813   \n",
       "6044                                    32.242     Zimbabwe  0.554  11.025587   \n",
       "\n",
       "          le       mys  pop_total  \n",
       "0     45.967  0.871962  10.694796  \n",
       "1     46.663  0.915267  10.745167  \n",
       "2     47.596  0.958573  12.057433  \n",
       "3     51.466  1.001878  14.003760  \n",
       "4     51.495  1.045184  15.455554  \n",
       "...      ...       ...        ...  \n",
       "6040  60.306  8.425370  14.452704  \n",
       "6041  60.709  8.461690  14.751101  \n",
       "6042  61.414  8.574575  15.052184  \n",
       "6043  61.292  8.687460  15.354608  \n",
       "6044  61.124  8.807763  15.669666  \n",
       "\n",
       "[6045 rows x 21 columns]"
      ]
     },
     "execution_count": 141,
     "metadata": {},
     "output_type": "execute_result"
    }
   ],
   "source": [
    "df_clean"
   ]
  },
  {
   "cell_type": "code",
   "execution_count": 142,
   "metadata": {},
   "outputs": [],
   "source": [
    "# Librerías necesarias para clustering\n",
    "\n",
    "import pandas as pd\n",
    "from sklearn.cluster import KMeans\n",
    "import matplotlib.pyplot as plt\n",
    "from sklearn.preprocessing import StandardScaler\n",
    "import plotly.express as px\n",
    "from kneed import KneeLocator"
   ]
  },
  {
   "cell_type": "markdown",
   "metadata": {},
   "source": [
    "# Clustering"
   ]
  },
  {
   "cell_type": "code",
   "execution_count": 143,
   "metadata": {},
   "outputs": [],
   "source": [
    "clusters = {}"
   ]
  },
  {
   "cell_type": "markdown",
   "metadata": {},
   "source": [
    "### Clustering según condiciones sociales y económicas"
   ]
  },
  {
   "cell_type": "code",
   "execution_count": 144,
   "metadata": {},
   "outputs": [],
   "source": [
    "features = ['GDP per capita (current US$)', 'Urban population (% of total population)', \n",
    "            'Unemployment total (% of total labor force) (modeled ILO estimate)', \n",
    "            'Adolescent fertility rate (births per 1000 women ages 15-19)',\n",
    "            'Employment in agriculture (% of total employment) (modeled ILO estimate)',\n",
    "            'Employment in industry (% of total employment) (modeled ILO estimate)',\n",
    "            'Employment in services (% of total employment) (modeled ILO estimate)']\n",
    "\n",
    "X = df_clean[features]\n",
    "\n",
    "scaler = StandardScaler()\n",
    "X_scaled = scaler.fit_transform(X)\n",
    "\n",
    "clusters['socioeconomic'] = (X_scaled,0)"
   ]
  },
  {
   "cell_type": "markdown",
   "metadata": {},
   "source": [
    "### Clustering según acceso a servicios básicos"
   ]
  },
  {
   "cell_type": "code",
   "execution_count": 146,
   "metadata": {},
   "outputs": [],
   "source": [
    "features = ['Access to clean fuels and technologies for cooking (% of population)',\n",
    "'Access to electricity (% of population)',\n",
    "'Individuals using the Internet (% of population)',\n",
    "'People using at least basic drinking water services (% of population)',\n",
    "'People using at least basic sanitation services (% of population)']\n",
    "\n",
    "X = df_clean[features]\n",
    "\n",
    "scaler = StandardScaler()\n",
    "X_scaled = scaler.fit_transform(X)\n",
    "\n",
    "clusters['basic_services'] = (X_scaled,0)"
   ]
  },
  {
   "cell_type": "markdown",
   "metadata": {},
   "source": [
    "### Clustering según factores educativos"
   ]
  },
  {
   "cell_type": "code",
   "execution_count": 147,
   "metadata": {},
   "outputs": [],
   "source": [
    "features = ['Primary completion rate total (% of relevant age group)',\n",
    "'eys',\n",
    "'mys',\n",
    "]\n",
    "\n",
    "X = df_clean[features]\n",
    "\n",
    "scaler = StandardScaler()\n",
    "X_scaled = scaler.fit_transform(X)\n",
    "\n",
    "clusters['educational_factors'] = (X_scaled,0)"
   ]
  },
  {
   "cell_type": "code",
   "execution_count": 153,
   "metadata": {},
   "outputs": [],
   "source": [
    "def elbowMethod(scaled_Data, cluster_name):\n",
    "    kmeans_kwargs = {\n",
    "        \"init\": \"random\",\n",
    "        \"n_init\": 10,\n",
    "        \"max_iter\": 300,\n",
    "        \"random_state\": 42,\n",
    "    }\n",
    "\n",
    "    wcss = []\n",
    "    for k in range(1, 41):\n",
    "        kmeans = KMeans(n_clusters = k, **kmeans_kwargs)\n",
    "        kmeans.fit(scaled_Data)\n",
    "        wcss.append(kmeans.inertia_)\n",
    "    \n",
    "    datos_WCSS = pd.DataFrame(range(1, 41), columns = [\"K\"])\n",
    "    datos_WCSS[\"WCSS\"] = wcss\n",
    "\n",
    "    fig = px.line(datos_WCSS, x = \"K\" , y = \"WCSS\", title='WCSS vrs K')\n",
    "    fig.update_layout(title=cluster_name)\n",
    "    fig.show()\n",
    "\n",
    "    localizador_codo = KneeLocator(range(1, 41), \n",
    "                               wcss, \n",
    "                               curve=\"convex\", \n",
    "                               direction=\"decreasing\"\n",
    "                              )\n",
    "    print(localizador_codo.elbow)\n",
    "    return localizador_codo.elbow"
   ]
  },
  {
   "cell_type": "code",
   "execution_count": 154,
   "metadata": {},
   "outputs": [
    {
     "data": {
      "application/vnd.plotly.v1+json": {
       "config": {
        "plotlyServerURL": "https://plot.ly"
       },
       "data": [
        {
         "hovertemplate": "K=%{x}<br>WCSS=%{y}<extra></extra>",
         "legendgroup": "",
         "line": {
          "color": "#636efa",
          "dash": "solid"
         },
         "marker": {
          "symbol": "circle"
         },
         "mode": "lines",
         "name": "",
         "orientation": "v",
         "showlegend": false,
         "type": "scatter",
         "x": [
          1,
          2,
          3,
          4,
          5,
          6,
          7,
          8,
          9,
          10,
          11,
          12,
          13,
          14,
          15,
          16,
          17,
          18,
          19,
          20,
          21,
          22,
          23,
          24,
          25,
          26,
          27,
          28,
          29,
          30,
          31,
          32,
          33,
          34,
          35,
          36,
          37,
          38,
          39,
          40
         ],
         "xaxis": "x",
         "y": [
          42314.999999999985,
          26471.618022090854,
          20669.834605272925,
          17750.755576741427,
          15400.263818423306,
          14030.249666837315,
          12930.949348562126,
          11998.122394464379,
          11193.415152962689,
          10637.543746536885,
          10126.267012977172,
          9700.91865525071,
          9396.460172087302,
          9069.814496387291,
          8727.439342328113,
          8535.408525063453,
          8237.696022197257,
          8067.710412574229,
          7834.8335566259,
          7634.227013607783,
          7398.236783421937,
          7269.747565246798,
          7111.448453937534,
          6871.326103547012,
          6743.9451257226,
          6607.986448788054,
          6412.567881277929,
          6207.0664020520035,
          6135.0011487319,
          5978.035548718941,
          5882.9220442545075,
          5789.131648874363,
          5609.406117349679,
          5463.498227808763,
          5353.349147118761,
          5361.061184726301,
          5264.06291455855,
          5185.213757688545,
          5029.272894704027,
          5016.6393881242175
         ],
         "yaxis": "y"
        }
       ],
       "layout": {
        "legend": {
         "tracegroupgap": 0
        },
        "template": {
         "data": {
          "bar": [
           {
            "error_x": {
             "color": "#2a3f5f"
            },
            "error_y": {
             "color": "#2a3f5f"
            },
            "marker": {
             "line": {
              "color": "#E5ECF6",
              "width": 0.5
             },
             "pattern": {
              "fillmode": "overlay",
              "size": 10,
              "solidity": 0.2
             }
            },
            "type": "bar"
           }
          ],
          "barpolar": [
           {
            "marker": {
             "line": {
              "color": "#E5ECF6",
              "width": 0.5
             },
             "pattern": {
              "fillmode": "overlay",
              "size": 10,
              "solidity": 0.2
             }
            },
            "type": "barpolar"
           }
          ],
          "carpet": [
           {
            "aaxis": {
             "endlinecolor": "#2a3f5f",
             "gridcolor": "white",
             "linecolor": "white",
             "minorgridcolor": "white",
             "startlinecolor": "#2a3f5f"
            },
            "baxis": {
             "endlinecolor": "#2a3f5f",
             "gridcolor": "white",
             "linecolor": "white",
             "minorgridcolor": "white",
             "startlinecolor": "#2a3f5f"
            },
            "type": "carpet"
           }
          ],
          "choropleth": [
           {
            "colorbar": {
             "outlinewidth": 0,
             "ticks": ""
            },
            "type": "choropleth"
           }
          ],
          "contour": [
           {
            "colorbar": {
             "outlinewidth": 0,
             "ticks": ""
            },
            "colorscale": [
             [
              0,
              "#0d0887"
             ],
             [
              0.1111111111111111,
              "#46039f"
             ],
             [
              0.2222222222222222,
              "#7201a8"
             ],
             [
              0.3333333333333333,
              "#9c179e"
             ],
             [
              0.4444444444444444,
              "#bd3786"
             ],
             [
              0.5555555555555556,
              "#d8576b"
             ],
             [
              0.6666666666666666,
              "#ed7953"
             ],
             [
              0.7777777777777778,
              "#fb9f3a"
             ],
             [
              0.8888888888888888,
              "#fdca26"
             ],
             [
              1,
              "#f0f921"
             ]
            ],
            "type": "contour"
           }
          ],
          "contourcarpet": [
           {
            "colorbar": {
             "outlinewidth": 0,
             "ticks": ""
            },
            "type": "contourcarpet"
           }
          ],
          "heatmap": [
           {
            "colorbar": {
             "outlinewidth": 0,
             "ticks": ""
            },
            "colorscale": [
             [
              0,
              "#0d0887"
             ],
             [
              0.1111111111111111,
              "#46039f"
             ],
             [
              0.2222222222222222,
              "#7201a8"
             ],
             [
              0.3333333333333333,
              "#9c179e"
             ],
             [
              0.4444444444444444,
              "#bd3786"
             ],
             [
              0.5555555555555556,
              "#d8576b"
             ],
             [
              0.6666666666666666,
              "#ed7953"
             ],
             [
              0.7777777777777778,
              "#fb9f3a"
             ],
             [
              0.8888888888888888,
              "#fdca26"
             ],
             [
              1,
              "#f0f921"
             ]
            ],
            "type": "heatmap"
           }
          ],
          "heatmapgl": [
           {
            "colorbar": {
             "outlinewidth": 0,
             "ticks": ""
            },
            "colorscale": [
             [
              0,
              "#0d0887"
             ],
             [
              0.1111111111111111,
              "#46039f"
             ],
             [
              0.2222222222222222,
              "#7201a8"
             ],
             [
              0.3333333333333333,
              "#9c179e"
             ],
             [
              0.4444444444444444,
              "#bd3786"
             ],
             [
              0.5555555555555556,
              "#d8576b"
             ],
             [
              0.6666666666666666,
              "#ed7953"
             ],
             [
              0.7777777777777778,
              "#fb9f3a"
             ],
             [
              0.8888888888888888,
              "#fdca26"
             ],
             [
              1,
              "#f0f921"
             ]
            ],
            "type": "heatmapgl"
           }
          ],
          "histogram": [
           {
            "marker": {
             "pattern": {
              "fillmode": "overlay",
              "size": 10,
              "solidity": 0.2
             }
            },
            "type": "histogram"
           }
          ],
          "histogram2d": [
           {
            "colorbar": {
             "outlinewidth": 0,
             "ticks": ""
            },
            "colorscale": [
             [
              0,
              "#0d0887"
             ],
             [
              0.1111111111111111,
              "#46039f"
             ],
             [
              0.2222222222222222,
              "#7201a8"
             ],
             [
              0.3333333333333333,
              "#9c179e"
             ],
             [
              0.4444444444444444,
              "#bd3786"
             ],
             [
              0.5555555555555556,
              "#d8576b"
             ],
             [
              0.6666666666666666,
              "#ed7953"
             ],
             [
              0.7777777777777778,
              "#fb9f3a"
             ],
             [
              0.8888888888888888,
              "#fdca26"
             ],
             [
              1,
              "#f0f921"
             ]
            ],
            "type": "histogram2d"
           }
          ],
          "histogram2dcontour": [
           {
            "colorbar": {
             "outlinewidth": 0,
             "ticks": ""
            },
            "colorscale": [
             [
              0,
              "#0d0887"
             ],
             [
              0.1111111111111111,
              "#46039f"
             ],
             [
              0.2222222222222222,
              "#7201a8"
             ],
             [
              0.3333333333333333,
              "#9c179e"
             ],
             [
              0.4444444444444444,
              "#bd3786"
             ],
             [
              0.5555555555555556,
              "#d8576b"
             ],
             [
              0.6666666666666666,
              "#ed7953"
             ],
             [
              0.7777777777777778,
              "#fb9f3a"
             ],
             [
              0.8888888888888888,
              "#fdca26"
             ],
             [
              1,
              "#f0f921"
             ]
            ],
            "type": "histogram2dcontour"
           }
          ],
          "mesh3d": [
           {
            "colorbar": {
             "outlinewidth": 0,
             "ticks": ""
            },
            "type": "mesh3d"
           }
          ],
          "parcoords": [
           {
            "line": {
             "colorbar": {
              "outlinewidth": 0,
              "ticks": ""
             }
            },
            "type": "parcoords"
           }
          ],
          "pie": [
           {
            "automargin": true,
            "type": "pie"
           }
          ],
          "scatter": [
           {
            "fillpattern": {
             "fillmode": "overlay",
             "size": 10,
             "solidity": 0.2
            },
            "type": "scatter"
           }
          ],
          "scatter3d": [
           {
            "line": {
             "colorbar": {
              "outlinewidth": 0,
              "ticks": ""
             }
            },
            "marker": {
             "colorbar": {
              "outlinewidth": 0,
              "ticks": ""
             }
            },
            "type": "scatter3d"
           }
          ],
          "scattercarpet": [
           {
            "marker": {
             "colorbar": {
              "outlinewidth": 0,
              "ticks": ""
             }
            },
            "type": "scattercarpet"
           }
          ],
          "scattergeo": [
           {
            "marker": {
             "colorbar": {
              "outlinewidth": 0,
              "ticks": ""
             }
            },
            "type": "scattergeo"
           }
          ],
          "scattergl": [
           {
            "marker": {
             "colorbar": {
              "outlinewidth": 0,
              "ticks": ""
             }
            },
            "type": "scattergl"
           }
          ],
          "scattermapbox": [
           {
            "marker": {
             "colorbar": {
              "outlinewidth": 0,
              "ticks": ""
             }
            },
            "type": "scattermapbox"
           }
          ],
          "scatterpolar": [
           {
            "marker": {
             "colorbar": {
              "outlinewidth": 0,
              "ticks": ""
             }
            },
            "type": "scatterpolar"
           }
          ],
          "scatterpolargl": [
           {
            "marker": {
             "colorbar": {
              "outlinewidth": 0,
              "ticks": ""
             }
            },
            "type": "scatterpolargl"
           }
          ],
          "scatterternary": [
           {
            "marker": {
             "colorbar": {
              "outlinewidth": 0,
              "ticks": ""
             }
            },
            "type": "scatterternary"
           }
          ],
          "surface": [
           {
            "colorbar": {
             "outlinewidth": 0,
             "ticks": ""
            },
            "colorscale": [
             [
              0,
              "#0d0887"
             ],
             [
              0.1111111111111111,
              "#46039f"
             ],
             [
              0.2222222222222222,
              "#7201a8"
             ],
             [
              0.3333333333333333,
              "#9c179e"
             ],
             [
              0.4444444444444444,
              "#bd3786"
             ],
             [
              0.5555555555555556,
              "#d8576b"
             ],
             [
              0.6666666666666666,
              "#ed7953"
             ],
             [
              0.7777777777777778,
              "#fb9f3a"
             ],
             [
              0.8888888888888888,
              "#fdca26"
             ],
             [
              1,
              "#f0f921"
             ]
            ],
            "type": "surface"
           }
          ],
          "table": [
           {
            "cells": {
             "fill": {
              "color": "#EBF0F8"
             },
             "line": {
              "color": "white"
             }
            },
            "header": {
             "fill": {
              "color": "#C8D4E3"
             },
             "line": {
              "color": "white"
             }
            },
            "type": "table"
           }
          ]
         },
         "layout": {
          "annotationdefaults": {
           "arrowcolor": "#2a3f5f",
           "arrowhead": 0,
           "arrowwidth": 1
          },
          "autotypenumbers": "strict",
          "coloraxis": {
           "colorbar": {
            "outlinewidth": 0,
            "ticks": ""
           }
          },
          "colorscale": {
           "diverging": [
            [
             0,
             "#8e0152"
            ],
            [
             0.1,
             "#c51b7d"
            ],
            [
             0.2,
             "#de77ae"
            ],
            [
             0.3,
             "#f1b6da"
            ],
            [
             0.4,
             "#fde0ef"
            ],
            [
             0.5,
             "#f7f7f7"
            ],
            [
             0.6,
             "#e6f5d0"
            ],
            [
             0.7,
             "#b8e186"
            ],
            [
             0.8,
             "#7fbc41"
            ],
            [
             0.9,
             "#4d9221"
            ],
            [
             1,
             "#276419"
            ]
           ],
           "sequential": [
            [
             0,
             "#0d0887"
            ],
            [
             0.1111111111111111,
             "#46039f"
            ],
            [
             0.2222222222222222,
             "#7201a8"
            ],
            [
             0.3333333333333333,
             "#9c179e"
            ],
            [
             0.4444444444444444,
             "#bd3786"
            ],
            [
             0.5555555555555556,
             "#d8576b"
            ],
            [
             0.6666666666666666,
             "#ed7953"
            ],
            [
             0.7777777777777778,
             "#fb9f3a"
            ],
            [
             0.8888888888888888,
             "#fdca26"
            ],
            [
             1,
             "#f0f921"
            ]
           ],
           "sequentialminus": [
            [
             0,
             "#0d0887"
            ],
            [
             0.1111111111111111,
             "#46039f"
            ],
            [
             0.2222222222222222,
             "#7201a8"
            ],
            [
             0.3333333333333333,
             "#9c179e"
            ],
            [
             0.4444444444444444,
             "#bd3786"
            ],
            [
             0.5555555555555556,
             "#d8576b"
            ],
            [
             0.6666666666666666,
             "#ed7953"
            ],
            [
             0.7777777777777778,
             "#fb9f3a"
            ],
            [
             0.8888888888888888,
             "#fdca26"
            ],
            [
             1,
             "#f0f921"
            ]
           ]
          },
          "colorway": [
           "#636efa",
           "#EF553B",
           "#00cc96",
           "#ab63fa",
           "#FFA15A",
           "#19d3f3",
           "#FF6692",
           "#B6E880",
           "#FF97FF",
           "#FECB52"
          ],
          "font": {
           "color": "#2a3f5f"
          },
          "geo": {
           "bgcolor": "white",
           "lakecolor": "white",
           "landcolor": "#E5ECF6",
           "showlakes": true,
           "showland": true,
           "subunitcolor": "white"
          },
          "hoverlabel": {
           "align": "left"
          },
          "hovermode": "closest",
          "mapbox": {
           "style": "light"
          },
          "paper_bgcolor": "white",
          "plot_bgcolor": "#E5ECF6",
          "polar": {
           "angularaxis": {
            "gridcolor": "white",
            "linecolor": "white",
            "ticks": ""
           },
           "bgcolor": "#E5ECF6",
           "radialaxis": {
            "gridcolor": "white",
            "linecolor": "white",
            "ticks": ""
           }
          },
          "scene": {
           "xaxis": {
            "backgroundcolor": "#E5ECF6",
            "gridcolor": "white",
            "gridwidth": 2,
            "linecolor": "white",
            "showbackground": true,
            "ticks": "",
            "zerolinecolor": "white"
           },
           "yaxis": {
            "backgroundcolor": "#E5ECF6",
            "gridcolor": "white",
            "gridwidth": 2,
            "linecolor": "white",
            "showbackground": true,
            "ticks": "",
            "zerolinecolor": "white"
           },
           "zaxis": {
            "backgroundcolor": "#E5ECF6",
            "gridcolor": "white",
            "gridwidth": 2,
            "linecolor": "white",
            "showbackground": true,
            "ticks": "",
            "zerolinecolor": "white"
           }
          },
          "shapedefaults": {
           "line": {
            "color": "#2a3f5f"
           }
          },
          "ternary": {
           "aaxis": {
            "gridcolor": "white",
            "linecolor": "white",
            "ticks": ""
           },
           "baxis": {
            "gridcolor": "white",
            "linecolor": "white",
            "ticks": ""
           },
           "bgcolor": "#E5ECF6",
           "caxis": {
            "gridcolor": "white",
            "linecolor": "white",
            "ticks": ""
           }
          },
          "title": {
           "x": 0.05
          },
          "xaxis": {
           "automargin": true,
           "gridcolor": "white",
           "linecolor": "white",
           "ticks": "",
           "title": {
            "standoff": 15
           },
           "zerolinecolor": "white",
           "zerolinewidth": 2
          },
          "yaxis": {
           "automargin": true,
           "gridcolor": "white",
           "linecolor": "white",
           "ticks": "",
           "title": {
            "standoff": 15
           },
           "zerolinecolor": "white",
           "zerolinewidth": 2
          }
         }
        },
        "title": {
         "text": "socioeconomic"
        },
        "xaxis": {
         "anchor": "y",
         "domain": [
          0,
          1
         ],
         "title": {
          "text": "K"
         }
        },
        "yaxis": {
         "anchor": "x",
         "domain": [
          0,
          1
         ],
         "title": {
          "text": "WCSS"
         }
        }
       }
      }
     },
     "metadata": {},
     "output_type": "display_data"
    },
    {
     "name": "stdout",
     "output_type": "stream",
     "text": [
      "7\n"
     ]
    },
    {
     "data": {
      "application/vnd.plotly.v1+json": {
       "config": {
        "plotlyServerURL": "https://plot.ly"
       },
       "data": [
        {
         "hovertemplate": "K=%{x}<br>WCSS=%{y}<extra></extra>",
         "legendgroup": "",
         "line": {
          "color": "#636efa",
          "dash": "solid"
         },
         "marker": {
          "symbol": "circle"
         },
         "mode": "lines",
         "name": "",
         "orientation": "v",
         "showlegend": false,
         "type": "scatter",
         "x": [
          1,
          2,
          3,
          4,
          5,
          6,
          7,
          8,
          9,
          10,
          11,
          12,
          13,
          14,
          15,
          16,
          17,
          18,
          19,
          20,
          21,
          22,
          23,
          24,
          25,
          26,
          27,
          28,
          29,
          30,
          31,
          32,
          33,
          34,
          35,
          36,
          37,
          38,
          39,
          40
         ],
         "xaxis": "x",
         "y": [
          30225.000000000004,
          14594.12020756441,
          7936.708834519382,
          6312.023408329334,
          5060.223011986578,
          4167.926225638899,
          3855.8383026167417,
          3531.920419950067,
          3254.755133672299,
          3005.8789645536067,
          2830.372532194376,
          2619.253020931632,
          2494.9030580219,
          2395.9088476381094,
          2289.6182874844844,
          2217.6508653003634,
          2151.6641459390835,
          2073.4342697994366,
          2004.4641967577147,
          1936.3931816324684,
          1893.6291786407126,
          1855.034971226054,
          1799.2549494085283,
          1719.3710733221446,
          1677.33590835535,
          1652.4296725890247,
          1617.234189784641,
          1579.6498609521745,
          1545.1428125388738,
          1504.1481634395263,
          1514.579949302022,
          1426.0363972180498,
          1430.753338917966,
          1442.913839158928,
          1381.1869162441421,
          1329.5972382158811,
          1293.8093895680272,
          1313.399247641846,
          1305.4698205429452,
          1270.0087125054858
         ],
         "yaxis": "y"
        }
       ],
       "layout": {
        "legend": {
         "tracegroupgap": 0
        },
        "template": {
         "data": {
          "bar": [
           {
            "error_x": {
             "color": "#2a3f5f"
            },
            "error_y": {
             "color": "#2a3f5f"
            },
            "marker": {
             "line": {
              "color": "#E5ECF6",
              "width": 0.5
             },
             "pattern": {
              "fillmode": "overlay",
              "size": 10,
              "solidity": 0.2
             }
            },
            "type": "bar"
           }
          ],
          "barpolar": [
           {
            "marker": {
             "line": {
              "color": "#E5ECF6",
              "width": 0.5
             },
             "pattern": {
              "fillmode": "overlay",
              "size": 10,
              "solidity": 0.2
             }
            },
            "type": "barpolar"
           }
          ],
          "carpet": [
           {
            "aaxis": {
             "endlinecolor": "#2a3f5f",
             "gridcolor": "white",
             "linecolor": "white",
             "minorgridcolor": "white",
             "startlinecolor": "#2a3f5f"
            },
            "baxis": {
             "endlinecolor": "#2a3f5f",
             "gridcolor": "white",
             "linecolor": "white",
             "minorgridcolor": "white",
             "startlinecolor": "#2a3f5f"
            },
            "type": "carpet"
           }
          ],
          "choropleth": [
           {
            "colorbar": {
             "outlinewidth": 0,
             "ticks": ""
            },
            "type": "choropleth"
           }
          ],
          "contour": [
           {
            "colorbar": {
             "outlinewidth": 0,
             "ticks": ""
            },
            "colorscale": [
             [
              0,
              "#0d0887"
             ],
             [
              0.1111111111111111,
              "#46039f"
             ],
             [
              0.2222222222222222,
              "#7201a8"
             ],
             [
              0.3333333333333333,
              "#9c179e"
             ],
             [
              0.4444444444444444,
              "#bd3786"
             ],
             [
              0.5555555555555556,
              "#d8576b"
             ],
             [
              0.6666666666666666,
              "#ed7953"
             ],
             [
              0.7777777777777778,
              "#fb9f3a"
             ],
             [
              0.8888888888888888,
              "#fdca26"
             ],
             [
              1,
              "#f0f921"
             ]
            ],
            "type": "contour"
           }
          ],
          "contourcarpet": [
           {
            "colorbar": {
             "outlinewidth": 0,
             "ticks": ""
            },
            "type": "contourcarpet"
           }
          ],
          "heatmap": [
           {
            "colorbar": {
             "outlinewidth": 0,
             "ticks": ""
            },
            "colorscale": [
             [
              0,
              "#0d0887"
             ],
             [
              0.1111111111111111,
              "#46039f"
             ],
             [
              0.2222222222222222,
              "#7201a8"
             ],
             [
              0.3333333333333333,
              "#9c179e"
             ],
             [
              0.4444444444444444,
              "#bd3786"
             ],
             [
              0.5555555555555556,
              "#d8576b"
             ],
             [
              0.6666666666666666,
              "#ed7953"
             ],
             [
              0.7777777777777778,
              "#fb9f3a"
             ],
             [
              0.8888888888888888,
              "#fdca26"
             ],
             [
              1,
              "#f0f921"
             ]
            ],
            "type": "heatmap"
           }
          ],
          "heatmapgl": [
           {
            "colorbar": {
             "outlinewidth": 0,
             "ticks": ""
            },
            "colorscale": [
             [
              0,
              "#0d0887"
             ],
             [
              0.1111111111111111,
              "#46039f"
             ],
             [
              0.2222222222222222,
              "#7201a8"
             ],
             [
              0.3333333333333333,
              "#9c179e"
             ],
             [
              0.4444444444444444,
              "#bd3786"
             ],
             [
              0.5555555555555556,
              "#d8576b"
             ],
             [
              0.6666666666666666,
              "#ed7953"
             ],
             [
              0.7777777777777778,
              "#fb9f3a"
             ],
             [
              0.8888888888888888,
              "#fdca26"
             ],
             [
              1,
              "#f0f921"
             ]
            ],
            "type": "heatmapgl"
           }
          ],
          "histogram": [
           {
            "marker": {
             "pattern": {
              "fillmode": "overlay",
              "size": 10,
              "solidity": 0.2
             }
            },
            "type": "histogram"
           }
          ],
          "histogram2d": [
           {
            "colorbar": {
             "outlinewidth": 0,
             "ticks": ""
            },
            "colorscale": [
             [
              0,
              "#0d0887"
             ],
             [
              0.1111111111111111,
              "#46039f"
             ],
             [
              0.2222222222222222,
              "#7201a8"
             ],
             [
              0.3333333333333333,
              "#9c179e"
             ],
             [
              0.4444444444444444,
              "#bd3786"
             ],
             [
              0.5555555555555556,
              "#d8576b"
             ],
             [
              0.6666666666666666,
              "#ed7953"
             ],
             [
              0.7777777777777778,
              "#fb9f3a"
             ],
             [
              0.8888888888888888,
              "#fdca26"
             ],
             [
              1,
              "#f0f921"
             ]
            ],
            "type": "histogram2d"
           }
          ],
          "histogram2dcontour": [
           {
            "colorbar": {
             "outlinewidth": 0,
             "ticks": ""
            },
            "colorscale": [
             [
              0,
              "#0d0887"
             ],
             [
              0.1111111111111111,
              "#46039f"
             ],
             [
              0.2222222222222222,
              "#7201a8"
             ],
             [
              0.3333333333333333,
              "#9c179e"
             ],
             [
              0.4444444444444444,
              "#bd3786"
             ],
             [
              0.5555555555555556,
              "#d8576b"
             ],
             [
              0.6666666666666666,
              "#ed7953"
             ],
             [
              0.7777777777777778,
              "#fb9f3a"
             ],
             [
              0.8888888888888888,
              "#fdca26"
             ],
             [
              1,
              "#f0f921"
             ]
            ],
            "type": "histogram2dcontour"
           }
          ],
          "mesh3d": [
           {
            "colorbar": {
             "outlinewidth": 0,
             "ticks": ""
            },
            "type": "mesh3d"
           }
          ],
          "parcoords": [
           {
            "line": {
             "colorbar": {
              "outlinewidth": 0,
              "ticks": ""
             }
            },
            "type": "parcoords"
           }
          ],
          "pie": [
           {
            "automargin": true,
            "type": "pie"
           }
          ],
          "scatter": [
           {
            "fillpattern": {
             "fillmode": "overlay",
             "size": 10,
             "solidity": 0.2
            },
            "type": "scatter"
           }
          ],
          "scatter3d": [
           {
            "line": {
             "colorbar": {
              "outlinewidth": 0,
              "ticks": ""
             }
            },
            "marker": {
             "colorbar": {
              "outlinewidth": 0,
              "ticks": ""
             }
            },
            "type": "scatter3d"
           }
          ],
          "scattercarpet": [
           {
            "marker": {
             "colorbar": {
              "outlinewidth": 0,
              "ticks": ""
             }
            },
            "type": "scattercarpet"
           }
          ],
          "scattergeo": [
           {
            "marker": {
             "colorbar": {
              "outlinewidth": 0,
              "ticks": ""
             }
            },
            "type": "scattergeo"
           }
          ],
          "scattergl": [
           {
            "marker": {
             "colorbar": {
              "outlinewidth": 0,
              "ticks": ""
             }
            },
            "type": "scattergl"
           }
          ],
          "scattermapbox": [
           {
            "marker": {
             "colorbar": {
              "outlinewidth": 0,
              "ticks": ""
             }
            },
            "type": "scattermapbox"
           }
          ],
          "scatterpolar": [
           {
            "marker": {
             "colorbar": {
              "outlinewidth": 0,
              "ticks": ""
             }
            },
            "type": "scatterpolar"
           }
          ],
          "scatterpolargl": [
           {
            "marker": {
             "colorbar": {
              "outlinewidth": 0,
              "ticks": ""
             }
            },
            "type": "scatterpolargl"
           }
          ],
          "scatterternary": [
           {
            "marker": {
             "colorbar": {
              "outlinewidth": 0,
              "ticks": ""
             }
            },
            "type": "scatterternary"
           }
          ],
          "surface": [
           {
            "colorbar": {
             "outlinewidth": 0,
             "ticks": ""
            },
            "colorscale": [
             [
              0,
              "#0d0887"
             ],
             [
              0.1111111111111111,
              "#46039f"
             ],
             [
              0.2222222222222222,
              "#7201a8"
             ],
             [
              0.3333333333333333,
              "#9c179e"
             ],
             [
              0.4444444444444444,
              "#bd3786"
             ],
             [
              0.5555555555555556,
              "#d8576b"
             ],
             [
              0.6666666666666666,
              "#ed7953"
             ],
             [
              0.7777777777777778,
              "#fb9f3a"
             ],
             [
              0.8888888888888888,
              "#fdca26"
             ],
             [
              1,
              "#f0f921"
             ]
            ],
            "type": "surface"
           }
          ],
          "table": [
           {
            "cells": {
             "fill": {
              "color": "#EBF0F8"
             },
             "line": {
              "color": "white"
             }
            },
            "header": {
             "fill": {
              "color": "#C8D4E3"
             },
             "line": {
              "color": "white"
             }
            },
            "type": "table"
           }
          ]
         },
         "layout": {
          "annotationdefaults": {
           "arrowcolor": "#2a3f5f",
           "arrowhead": 0,
           "arrowwidth": 1
          },
          "autotypenumbers": "strict",
          "coloraxis": {
           "colorbar": {
            "outlinewidth": 0,
            "ticks": ""
           }
          },
          "colorscale": {
           "diverging": [
            [
             0,
             "#8e0152"
            ],
            [
             0.1,
             "#c51b7d"
            ],
            [
             0.2,
             "#de77ae"
            ],
            [
             0.3,
             "#f1b6da"
            ],
            [
             0.4,
             "#fde0ef"
            ],
            [
             0.5,
             "#f7f7f7"
            ],
            [
             0.6,
             "#e6f5d0"
            ],
            [
             0.7,
             "#b8e186"
            ],
            [
             0.8,
             "#7fbc41"
            ],
            [
             0.9,
             "#4d9221"
            ],
            [
             1,
             "#276419"
            ]
           ],
           "sequential": [
            [
             0,
             "#0d0887"
            ],
            [
             0.1111111111111111,
             "#46039f"
            ],
            [
             0.2222222222222222,
             "#7201a8"
            ],
            [
             0.3333333333333333,
             "#9c179e"
            ],
            [
             0.4444444444444444,
             "#bd3786"
            ],
            [
             0.5555555555555556,
             "#d8576b"
            ],
            [
             0.6666666666666666,
             "#ed7953"
            ],
            [
             0.7777777777777778,
             "#fb9f3a"
            ],
            [
             0.8888888888888888,
             "#fdca26"
            ],
            [
             1,
             "#f0f921"
            ]
           ],
           "sequentialminus": [
            [
             0,
             "#0d0887"
            ],
            [
             0.1111111111111111,
             "#46039f"
            ],
            [
             0.2222222222222222,
             "#7201a8"
            ],
            [
             0.3333333333333333,
             "#9c179e"
            ],
            [
             0.4444444444444444,
             "#bd3786"
            ],
            [
             0.5555555555555556,
             "#d8576b"
            ],
            [
             0.6666666666666666,
             "#ed7953"
            ],
            [
             0.7777777777777778,
             "#fb9f3a"
            ],
            [
             0.8888888888888888,
             "#fdca26"
            ],
            [
             1,
             "#f0f921"
            ]
           ]
          },
          "colorway": [
           "#636efa",
           "#EF553B",
           "#00cc96",
           "#ab63fa",
           "#FFA15A",
           "#19d3f3",
           "#FF6692",
           "#B6E880",
           "#FF97FF",
           "#FECB52"
          ],
          "font": {
           "color": "#2a3f5f"
          },
          "geo": {
           "bgcolor": "white",
           "lakecolor": "white",
           "landcolor": "#E5ECF6",
           "showlakes": true,
           "showland": true,
           "subunitcolor": "white"
          },
          "hoverlabel": {
           "align": "left"
          },
          "hovermode": "closest",
          "mapbox": {
           "style": "light"
          },
          "paper_bgcolor": "white",
          "plot_bgcolor": "#E5ECF6",
          "polar": {
           "angularaxis": {
            "gridcolor": "white",
            "linecolor": "white",
            "ticks": ""
           },
           "bgcolor": "#E5ECF6",
           "radialaxis": {
            "gridcolor": "white",
            "linecolor": "white",
            "ticks": ""
           }
          },
          "scene": {
           "xaxis": {
            "backgroundcolor": "#E5ECF6",
            "gridcolor": "white",
            "gridwidth": 2,
            "linecolor": "white",
            "showbackground": true,
            "ticks": "",
            "zerolinecolor": "white"
           },
           "yaxis": {
            "backgroundcolor": "#E5ECF6",
            "gridcolor": "white",
            "gridwidth": 2,
            "linecolor": "white",
            "showbackground": true,
            "ticks": "",
            "zerolinecolor": "white"
           },
           "zaxis": {
            "backgroundcolor": "#E5ECF6",
            "gridcolor": "white",
            "gridwidth": 2,
            "linecolor": "white",
            "showbackground": true,
            "ticks": "",
            "zerolinecolor": "white"
           }
          },
          "shapedefaults": {
           "line": {
            "color": "#2a3f5f"
           }
          },
          "ternary": {
           "aaxis": {
            "gridcolor": "white",
            "linecolor": "white",
            "ticks": ""
           },
           "baxis": {
            "gridcolor": "white",
            "linecolor": "white",
            "ticks": ""
           },
           "bgcolor": "#E5ECF6",
           "caxis": {
            "gridcolor": "white",
            "linecolor": "white",
            "ticks": ""
           }
          },
          "title": {
           "x": 0.05
          },
          "xaxis": {
           "automargin": true,
           "gridcolor": "white",
           "linecolor": "white",
           "ticks": "",
           "title": {
            "standoff": 15
           },
           "zerolinecolor": "white",
           "zerolinewidth": 2
          },
          "yaxis": {
           "automargin": true,
           "gridcolor": "white",
           "linecolor": "white",
           "ticks": "",
           "title": {
            "standoff": 15
           },
           "zerolinecolor": "white",
           "zerolinewidth": 2
          }
         }
        },
        "title": {
         "text": "basic_services"
        },
        "xaxis": {
         "anchor": "y",
         "domain": [
          0,
          1
         ],
         "title": {
          "text": "K"
         }
        },
        "yaxis": {
         "anchor": "x",
         "domain": [
          0,
          1
         ],
         "title": {
          "text": "WCSS"
         }
        }
       }
      }
     },
     "metadata": {},
     "output_type": "display_data"
    },
    {
     "name": "stdout",
     "output_type": "stream",
     "text": [
      "6\n"
     ]
    },
    {
     "data": {
      "application/vnd.plotly.v1+json": {
       "config": {
        "plotlyServerURL": "https://plot.ly"
       },
       "data": [
        {
         "hovertemplate": "K=%{x}<br>WCSS=%{y}<extra></extra>",
         "legendgroup": "",
         "line": {
          "color": "#636efa",
          "dash": "solid"
         },
         "marker": {
          "symbol": "circle"
         },
         "mode": "lines",
         "name": "",
         "orientation": "v",
         "showlegend": false,
         "type": "scatter",
         "x": [
          1,
          2,
          3,
          4,
          5,
          6,
          7,
          8,
          9,
          10,
          11,
          12,
          13,
          14,
          15,
          16,
          17,
          18,
          19,
          20,
          21,
          22,
          23,
          24,
          25,
          26,
          27,
          28,
          29,
          30,
          31,
          32,
          33,
          34,
          35,
          36,
          37,
          38,
          39,
          40
         ],
         "xaxis": "x",
         "y": [
          18135.000000000007,
          9076.192148002732,
          6257.70516883877,
          4701.258956726658,
          4116.906283665965,
          3662.069183296386,
          3188.4582411480615,
          2926.7521937596857,
          2699.3191035004484,
          2481.579685911258,
          2321.40182818624,
          2193.632266728527,
          2036.021700702886,
          1926.5498543736032,
          1822.839613490748,
          1746.8312229442631,
          1698.4720806763814,
          1580.4246810490472,
          1543.7301094506201,
          1472.413605399142,
          1427.5676254354858,
          1364.8606235798857,
          1320.5220010758328,
          1273.9257866057721,
          1257.634558740834,
          1187.3709671498502,
          1174.8451165634133,
          1128.611073639626,
          1104.8234696383502,
          1079.2545672457516,
          1045.973774140602,
          1019.7404874644172,
          996.4975368771741,
          971.3196812073368,
          969.8318909308656,
          943.3664855685583,
          921.3214535257277,
          904.9321423944035,
          892.7559605776501,
          875.65377082536
         ],
         "yaxis": "y"
        }
       ],
       "layout": {
        "legend": {
         "tracegroupgap": 0
        },
        "template": {
         "data": {
          "bar": [
           {
            "error_x": {
             "color": "#2a3f5f"
            },
            "error_y": {
             "color": "#2a3f5f"
            },
            "marker": {
             "line": {
              "color": "#E5ECF6",
              "width": 0.5
             },
             "pattern": {
              "fillmode": "overlay",
              "size": 10,
              "solidity": 0.2
             }
            },
            "type": "bar"
           }
          ],
          "barpolar": [
           {
            "marker": {
             "line": {
              "color": "#E5ECF6",
              "width": 0.5
             },
             "pattern": {
              "fillmode": "overlay",
              "size": 10,
              "solidity": 0.2
             }
            },
            "type": "barpolar"
           }
          ],
          "carpet": [
           {
            "aaxis": {
             "endlinecolor": "#2a3f5f",
             "gridcolor": "white",
             "linecolor": "white",
             "minorgridcolor": "white",
             "startlinecolor": "#2a3f5f"
            },
            "baxis": {
             "endlinecolor": "#2a3f5f",
             "gridcolor": "white",
             "linecolor": "white",
             "minorgridcolor": "white",
             "startlinecolor": "#2a3f5f"
            },
            "type": "carpet"
           }
          ],
          "choropleth": [
           {
            "colorbar": {
             "outlinewidth": 0,
             "ticks": ""
            },
            "type": "choropleth"
           }
          ],
          "contour": [
           {
            "colorbar": {
             "outlinewidth": 0,
             "ticks": ""
            },
            "colorscale": [
             [
              0,
              "#0d0887"
             ],
             [
              0.1111111111111111,
              "#46039f"
             ],
             [
              0.2222222222222222,
              "#7201a8"
             ],
             [
              0.3333333333333333,
              "#9c179e"
             ],
             [
              0.4444444444444444,
              "#bd3786"
             ],
             [
              0.5555555555555556,
              "#d8576b"
             ],
             [
              0.6666666666666666,
              "#ed7953"
             ],
             [
              0.7777777777777778,
              "#fb9f3a"
             ],
             [
              0.8888888888888888,
              "#fdca26"
             ],
             [
              1,
              "#f0f921"
             ]
            ],
            "type": "contour"
           }
          ],
          "contourcarpet": [
           {
            "colorbar": {
             "outlinewidth": 0,
             "ticks": ""
            },
            "type": "contourcarpet"
           }
          ],
          "heatmap": [
           {
            "colorbar": {
             "outlinewidth": 0,
             "ticks": ""
            },
            "colorscale": [
             [
              0,
              "#0d0887"
             ],
             [
              0.1111111111111111,
              "#46039f"
             ],
             [
              0.2222222222222222,
              "#7201a8"
             ],
             [
              0.3333333333333333,
              "#9c179e"
             ],
             [
              0.4444444444444444,
              "#bd3786"
             ],
             [
              0.5555555555555556,
              "#d8576b"
             ],
             [
              0.6666666666666666,
              "#ed7953"
             ],
             [
              0.7777777777777778,
              "#fb9f3a"
             ],
             [
              0.8888888888888888,
              "#fdca26"
             ],
             [
              1,
              "#f0f921"
             ]
            ],
            "type": "heatmap"
           }
          ],
          "heatmapgl": [
           {
            "colorbar": {
             "outlinewidth": 0,
             "ticks": ""
            },
            "colorscale": [
             [
              0,
              "#0d0887"
             ],
             [
              0.1111111111111111,
              "#46039f"
             ],
             [
              0.2222222222222222,
              "#7201a8"
             ],
             [
              0.3333333333333333,
              "#9c179e"
             ],
             [
              0.4444444444444444,
              "#bd3786"
             ],
             [
              0.5555555555555556,
              "#d8576b"
             ],
             [
              0.6666666666666666,
              "#ed7953"
             ],
             [
              0.7777777777777778,
              "#fb9f3a"
             ],
             [
              0.8888888888888888,
              "#fdca26"
             ],
             [
              1,
              "#f0f921"
             ]
            ],
            "type": "heatmapgl"
           }
          ],
          "histogram": [
           {
            "marker": {
             "pattern": {
              "fillmode": "overlay",
              "size": 10,
              "solidity": 0.2
             }
            },
            "type": "histogram"
           }
          ],
          "histogram2d": [
           {
            "colorbar": {
             "outlinewidth": 0,
             "ticks": ""
            },
            "colorscale": [
             [
              0,
              "#0d0887"
             ],
             [
              0.1111111111111111,
              "#46039f"
             ],
             [
              0.2222222222222222,
              "#7201a8"
             ],
             [
              0.3333333333333333,
              "#9c179e"
             ],
             [
              0.4444444444444444,
              "#bd3786"
             ],
             [
              0.5555555555555556,
              "#d8576b"
             ],
             [
              0.6666666666666666,
              "#ed7953"
             ],
             [
              0.7777777777777778,
              "#fb9f3a"
             ],
             [
              0.8888888888888888,
              "#fdca26"
             ],
             [
              1,
              "#f0f921"
             ]
            ],
            "type": "histogram2d"
           }
          ],
          "histogram2dcontour": [
           {
            "colorbar": {
             "outlinewidth": 0,
             "ticks": ""
            },
            "colorscale": [
             [
              0,
              "#0d0887"
             ],
             [
              0.1111111111111111,
              "#46039f"
             ],
             [
              0.2222222222222222,
              "#7201a8"
             ],
             [
              0.3333333333333333,
              "#9c179e"
             ],
             [
              0.4444444444444444,
              "#bd3786"
             ],
             [
              0.5555555555555556,
              "#d8576b"
             ],
             [
              0.6666666666666666,
              "#ed7953"
             ],
             [
              0.7777777777777778,
              "#fb9f3a"
             ],
             [
              0.8888888888888888,
              "#fdca26"
             ],
             [
              1,
              "#f0f921"
             ]
            ],
            "type": "histogram2dcontour"
           }
          ],
          "mesh3d": [
           {
            "colorbar": {
             "outlinewidth": 0,
             "ticks": ""
            },
            "type": "mesh3d"
           }
          ],
          "parcoords": [
           {
            "line": {
             "colorbar": {
              "outlinewidth": 0,
              "ticks": ""
             }
            },
            "type": "parcoords"
           }
          ],
          "pie": [
           {
            "automargin": true,
            "type": "pie"
           }
          ],
          "scatter": [
           {
            "fillpattern": {
             "fillmode": "overlay",
             "size": 10,
             "solidity": 0.2
            },
            "type": "scatter"
           }
          ],
          "scatter3d": [
           {
            "line": {
             "colorbar": {
              "outlinewidth": 0,
              "ticks": ""
             }
            },
            "marker": {
             "colorbar": {
              "outlinewidth": 0,
              "ticks": ""
             }
            },
            "type": "scatter3d"
           }
          ],
          "scattercarpet": [
           {
            "marker": {
             "colorbar": {
              "outlinewidth": 0,
              "ticks": ""
             }
            },
            "type": "scattercarpet"
           }
          ],
          "scattergeo": [
           {
            "marker": {
             "colorbar": {
              "outlinewidth": 0,
              "ticks": ""
             }
            },
            "type": "scattergeo"
           }
          ],
          "scattergl": [
           {
            "marker": {
             "colorbar": {
              "outlinewidth": 0,
              "ticks": ""
             }
            },
            "type": "scattergl"
           }
          ],
          "scattermapbox": [
           {
            "marker": {
             "colorbar": {
              "outlinewidth": 0,
              "ticks": ""
             }
            },
            "type": "scattermapbox"
           }
          ],
          "scatterpolar": [
           {
            "marker": {
             "colorbar": {
              "outlinewidth": 0,
              "ticks": ""
             }
            },
            "type": "scatterpolar"
           }
          ],
          "scatterpolargl": [
           {
            "marker": {
             "colorbar": {
              "outlinewidth": 0,
              "ticks": ""
             }
            },
            "type": "scatterpolargl"
           }
          ],
          "scatterternary": [
           {
            "marker": {
             "colorbar": {
              "outlinewidth": 0,
              "ticks": ""
             }
            },
            "type": "scatterternary"
           }
          ],
          "surface": [
           {
            "colorbar": {
             "outlinewidth": 0,
             "ticks": ""
            },
            "colorscale": [
             [
              0,
              "#0d0887"
             ],
             [
              0.1111111111111111,
              "#46039f"
             ],
             [
              0.2222222222222222,
              "#7201a8"
             ],
             [
              0.3333333333333333,
              "#9c179e"
             ],
             [
              0.4444444444444444,
              "#bd3786"
             ],
             [
              0.5555555555555556,
              "#d8576b"
             ],
             [
              0.6666666666666666,
              "#ed7953"
             ],
             [
              0.7777777777777778,
              "#fb9f3a"
             ],
             [
              0.8888888888888888,
              "#fdca26"
             ],
             [
              1,
              "#f0f921"
             ]
            ],
            "type": "surface"
           }
          ],
          "table": [
           {
            "cells": {
             "fill": {
              "color": "#EBF0F8"
             },
             "line": {
              "color": "white"
             }
            },
            "header": {
             "fill": {
              "color": "#C8D4E3"
             },
             "line": {
              "color": "white"
             }
            },
            "type": "table"
           }
          ]
         },
         "layout": {
          "annotationdefaults": {
           "arrowcolor": "#2a3f5f",
           "arrowhead": 0,
           "arrowwidth": 1
          },
          "autotypenumbers": "strict",
          "coloraxis": {
           "colorbar": {
            "outlinewidth": 0,
            "ticks": ""
           }
          },
          "colorscale": {
           "diverging": [
            [
             0,
             "#8e0152"
            ],
            [
             0.1,
             "#c51b7d"
            ],
            [
             0.2,
             "#de77ae"
            ],
            [
             0.3,
             "#f1b6da"
            ],
            [
             0.4,
             "#fde0ef"
            ],
            [
             0.5,
             "#f7f7f7"
            ],
            [
             0.6,
             "#e6f5d0"
            ],
            [
             0.7,
             "#b8e186"
            ],
            [
             0.8,
             "#7fbc41"
            ],
            [
             0.9,
             "#4d9221"
            ],
            [
             1,
             "#276419"
            ]
           ],
           "sequential": [
            [
             0,
             "#0d0887"
            ],
            [
             0.1111111111111111,
             "#46039f"
            ],
            [
             0.2222222222222222,
             "#7201a8"
            ],
            [
             0.3333333333333333,
             "#9c179e"
            ],
            [
             0.4444444444444444,
             "#bd3786"
            ],
            [
             0.5555555555555556,
             "#d8576b"
            ],
            [
             0.6666666666666666,
             "#ed7953"
            ],
            [
             0.7777777777777778,
             "#fb9f3a"
            ],
            [
             0.8888888888888888,
             "#fdca26"
            ],
            [
             1,
             "#f0f921"
            ]
           ],
           "sequentialminus": [
            [
             0,
             "#0d0887"
            ],
            [
             0.1111111111111111,
             "#46039f"
            ],
            [
             0.2222222222222222,
             "#7201a8"
            ],
            [
             0.3333333333333333,
             "#9c179e"
            ],
            [
             0.4444444444444444,
             "#bd3786"
            ],
            [
             0.5555555555555556,
             "#d8576b"
            ],
            [
             0.6666666666666666,
             "#ed7953"
            ],
            [
             0.7777777777777778,
             "#fb9f3a"
            ],
            [
             0.8888888888888888,
             "#fdca26"
            ],
            [
             1,
             "#f0f921"
            ]
           ]
          },
          "colorway": [
           "#636efa",
           "#EF553B",
           "#00cc96",
           "#ab63fa",
           "#FFA15A",
           "#19d3f3",
           "#FF6692",
           "#B6E880",
           "#FF97FF",
           "#FECB52"
          ],
          "font": {
           "color": "#2a3f5f"
          },
          "geo": {
           "bgcolor": "white",
           "lakecolor": "white",
           "landcolor": "#E5ECF6",
           "showlakes": true,
           "showland": true,
           "subunitcolor": "white"
          },
          "hoverlabel": {
           "align": "left"
          },
          "hovermode": "closest",
          "mapbox": {
           "style": "light"
          },
          "paper_bgcolor": "white",
          "plot_bgcolor": "#E5ECF6",
          "polar": {
           "angularaxis": {
            "gridcolor": "white",
            "linecolor": "white",
            "ticks": ""
           },
           "bgcolor": "#E5ECF6",
           "radialaxis": {
            "gridcolor": "white",
            "linecolor": "white",
            "ticks": ""
           }
          },
          "scene": {
           "xaxis": {
            "backgroundcolor": "#E5ECF6",
            "gridcolor": "white",
            "gridwidth": 2,
            "linecolor": "white",
            "showbackground": true,
            "ticks": "",
            "zerolinecolor": "white"
           },
           "yaxis": {
            "backgroundcolor": "#E5ECF6",
            "gridcolor": "white",
            "gridwidth": 2,
            "linecolor": "white",
            "showbackground": true,
            "ticks": "",
            "zerolinecolor": "white"
           },
           "zaxis": {
            "backgroundcolor": "#E5ECF6",
            "gridcolor": "white",
            "gridwidth": 2,
            "linecolor": "white",
            "showbackground": true,
            "ticks": "",
            "zerolinecolor": "white"
           }
          },
          "shapedefaults": {
           "line": {
            "color": "#2a3f5f"
           }
          },
          "ternary": {
           "aaxis": {
            "gridcolor": "white",
            "linecolor": "white",
            "ticks": ""
           },
           "baxis": {
            "gridcolor": "white",
            "linecolor": "white",
            "ticks": ""
           },
           "bgcolor": "#E5ECF6",
           "caxis": {
            "gridcolor": "white",
            "linecolor": "white",
            "ticks": ""
           }
          },
          "title": {
           "x": 0.05
          },
          "xaxis": {
           "automargin": true,
           "gridcolor": "white",
           "linecolor": "white",
           "ticks": "",
           "title": {
            "standoff": 15
           },
           "zerolinecolor": "white",
           "zerolinewidth": 2
          },
          "yaxis": {
           "automargin": true,
           "gridcolor": "white",
           "linecolor": "white",
           "ticks": "",
           "title": {
            "standoff": 15
           },
           "zerolinecolor": "white",
           "zerolinewidth": 2
          }
         }
        },
        "title": {
         "text": "educational_factors"
        },
        "xaxis": {
         "anchor": "y",
         "domain": [
          0,
          1
         ],
         "title": {
          "text": "K"
         }
        },
        "yaxis": {
         "anchor": "x",
         "domain": [
          0,
          1
         ],
         "title": {
          "text": "WCSS"
         }
        }
       }
      }
     },
     "metadata": {},
     "output_type": "display_data"
    },
    {
     "name": "stdout",
     "output_type": "stream",
     "text": [
      "7\n"
     ]
    }
   ],
   "source": [
    "for c_name,c_value in clusters.items():\n",
    "    K = elbowMethod(c_value[0], c_name)\n",
    "    c_value = (c_value[0],K)"
   ]
  }
 ],
 "metadata": {
  "kernelspec": {
   "display_name": "Python 3",
   "language": "python",
   "name": "python3"
  },
  "language_info": {
   "codemirror_mode": {
    "name": "ipython",
    "version": 3
   },
   "file_extension": ".py",
   "mimetype": "text/x-python",
   "name": "python",
   "nbconvert_exporter": "python",
   "pygments_lexer": "ipython3",
   "version": "3.11.9"
  }
 },
 "nbformat": 4,
 "nbformat_minor": 2
}
